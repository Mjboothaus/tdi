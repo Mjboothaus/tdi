{
 "cells": [
  {
   "cell_type": "markdown",
   "metadata": {},
   "source": [
    "# Q3. Project Proposal - Just Eat It!"
   ]
  },
  {
   "cell_type": "markdown",
   "metadata": {},
   "source": [
    "## Description\n",
    "\n",
    "A personalized allergy index travel advisory app (risk management tool).\n",
    "\n",
    "## Motivation\n",
    "\n",
    "EATING is one of the keys to experiencing, accessing and understanding another culture which brings both joy and sustenance. However, as a parent of a boy with food allergies we know first-hand the perils of eating without a careful risk assessment; and sometimes even with one - thankfully he was OK!\n",
    "\n",
    "During the Fellowship I plan to:\n",
    "* build and deliver an app which can be deployed on my son's and millions of others smart devices in which they specify their allergy profile and tolerance, and receive customised suggestions to assist them make a risk-informed decision about the countries, cuisines and recipes that are most likely to be suitable for them as is or with minimal modification so they can truly experience, access and understand other cultures (via food) inconjunction with their family and not from the special-case sidelines.\n",
    "* greatly enhance and expand upon the representative (prototype) version of the Yummly.com recipe/cuisine dataset that is available as a Kaggle warm-up exercise. i.e. I need a high quality, large, well-classified and contemporary data set that I believe Yummly.com can provide;\n",
    "* explore the data to fully understand the questions that can be asked and answered in an allergy-context;\n",
    "* conduct some more sophisticated analysis using ML, NLP techniques (e.g. possibly multiple correspondence analysis (MCA) to understand the underlying structure of recipes.\n",
    "\n",
    "\n",
    "## Data Source\n",
    "\n",
    "#### Link to public description of data source. \n",
    "\n",
    "Prototype dataset: [https://www.kaggle.com/c/whats-cooking/data] extract from Yummly.com\n",
    "\n",
    "The prototype Kaggle dataset is provided as a compressed JSON file (12,415,067 bytes / 12.MB) which was imported in Python using Pandas `read_json()` method. I also applied for Hackathon-style access to the Yummly API https://developer.yummly.com and was granted access shortly before the submission deadline. There is an open-source Python wrapper to the Yummly API which I attempted to use, however, it appears to have a bug which needs to be fixed - but in principle I have access to retreive data directly from Yummly. From a quick survey of their documentation, it appears there is a much richer dataset that can be accessed compared to the subset provided to Kaggle.\n",
    "\n",
    "\n",
    "## Analysis approach\n",
    "\n",
    "\n",
    "## Introductory EDA\n",
    "\n",
    "My initial Exploratory Data Analysis is presented below following the **Introductory EDA - Jupyter Notebook** heading.\n",
    "\n",
    "The sample allergy profile was defined to be:\n",
    "`allergy_profile = ['butter', 'milk', 'peanuts', 'pecan', 'nuts', 'fish']`\n",
    "\n",
    "## Initial Results & Observations\n",
    "\n",
    "#### First Plot - Towards a creating a personalized allergy index. \n",
    "\n",
    "[https://github.com/Mjboothaus/tdi/blob/master/Figure1_MJB.png]\n",
    "\n",
    "Figure 1: [LEFT] Shows a count of all recipes in the dataset by country containing  none of the allergens in the personsal allergy profile (blue bars), compared to those which contain 1 or more of the allergens (green bars). [RIGHT] A count of all recipes in the dataset by country containing no more than 1 of the allergens in the personsal allergy profile (blue bars), compared to those containing two or more of the allergens in the personsal allergy profile. Clearly relaxing the number of allergens to be considered in the profile by one clearly can bring a lot of recipes \"back on to the table\". Looking at, for example, the ratios of such value counts is a crude first step towards constructing an allergy \"index\" for a particular cuisine/country.\n",
    "Note: the sum of each pair of blue and green bars will be equal between the two panels.\n",
    "\n",
    "#### Second Plot - Examining data quality.\n",
    "\n",
    "[https://github.com/Mjboothaus/tdi/blob/master/Figure2_MJB.png]\n",
    "\n",
    "Figure 2:  This plot shows the distribution of the number of ingredients in each recipe. Note the plot is truncated at 30 ingredients given the long right tail of the distribution. There is some curious step-like structure in the distribution at 5, 10, 15 and 20 ingredients. Perhaps the best recipes have a number of ingredients that are \"divisible by 5\"! However, the plot demonstrates that there are a number of recipes around (0.5%) that have more than 25 ingredients, with a few (3) having over 50 ingredients. Based on my initial research I believe this is a data issue and not some exotic recipe! As with any project, the quality of the outcomes are at best as good as the data inputs. So part of this project will be to work with the data directly via the Yummly API and to create some thorough quality metrics before going too far into more detailed analysis.\n",
    "\n",
    "\n",
    "## Next Steps - During the Fellowship\n",
    "\n",
    "The intial project scope is both achieveable within the time-frame and I believe it is also possible to make significant progress on:\n",
    "1. Making it extensible to a variety of dietary profiles not just allergies: whether intolerances, observances, convictions, illnesses, weight-management or self-impositions;\n",
    "2. Increasing the scale of the data set using the Yummly API and potentially other datasources e.g. with calorific information (https://developer.calorieking.com/food-api/);\n",
    "3. Refining the granularity, which is initially subject to available categorizations, for exaple from country to region and from cuisine to sub-cuisine.\n",
    "4. Expand to look at additional recipes categories e.g. entree, main, dessert, garnishes, sauces and beverages\n",
    "5. Consider the implications for cross-contamination in meal (recipe) preparation.\n",
    "6. MCA On ingredient lists https://pypi.python.org/pypi/mca (Categorical \"Principal component analysis\")\n",
    "\n",
    "\n",
    "\n",
    "## Video Presentation\n",
    "\n",
    "_Record a video of yourself giving a high-level proposal of your project to a **non-technical person**. The video should be no longer than 1 minute and should be at a **higher level than the previous explanation**._\n",
    "\n",
    "_Record a video of yourself and upload it to YouTube (and not another video hosting service). **Be sure to make the video unlisted (but not private!)** so people without the link cannot find it on Google (go here, click \"Edit\" on your video, select unlisted from the privacy dropdown menu, and save your changes). You can use either your webcam or a smartphone._\n",
    "\n",
    "####  EMBED Video URL\n",
    "\n",
    "https://www.youtube.com/embed/y9tX5whl2U\n",
    "\n",
    "\n",
    "### Acknowledgements\n",
    "\n",
    "Thanks to my supportive family!\n",
    "\n",
    "Background video music: \"Weird Al\" Yankovic - \"Eat It\"  https://itunes.apple.com/au/artist/weird-al-yankovic/id1855044\n",
    "\n",
    "### Related Work\n",
    "\n",
    "I noticed the following related research as part of my data discovery.\n",
    "\n",
    "https://cseweb.ucsd.edu/~jmcauley/cse255/reports/fa15/039.pdf"
   ]
  },
  {
   "cell_type": "markdown",
   "metadata": {},
   "source": [
    "---\n",
    "\n",
    "## Introductory EDA - Jupyter Notebook"
   ]
  },
  {
   "cell_type": "code",
   "execution_count": 1,
   "metadata": {
    "collapsed": true
   },
   "outputs": [],
   "source": [
    "import numpy as np\n",
    "import matplotlib.pyplot as plt\n",
    "import pandas as pd\n",
    "import seaborn as sns\n",
    "\n",
    "%matplotlib inline\n",
    "sns.set_context(\"paper\", rc={\"font.size\":16,\"axes.titlesize\":16,\"axes.labelsize\":20})   "
   ]
  },
  {
   "cell_type": "markdown",
   "metadata": {},
   "source": [
    "### The Concrete Motivation"
   ]
  },
  {
   "cell_type": "markdown",
   "metadata": {},
   "source": [
    "![Allergic boy!](./IMG_0951.JPG \"ShowMyImage\")"
   ]
  },
  {
   "cell_type": "markdown",
   "metadata": {},
   "source": [
    "### Prototype Kaggle Data Set"
   ]
  },
  {
   "cell_type": "markdown",
   "metadata": {},
   "source": [
    "This JSON-formatted dataset contains the recipe id, type of cuisine and list of ingredients for each recipe (which is a list of variable length)."
   ]
  },
  {
   "cell_type": "code",
   "execution_count": 2,
   "metadata": {
    "collapsed": true
   },
   "outputs": [],
   "source": [
    "data_source_URL = 'https://www.kaggle.com/c/whats-cooking/data'\n",
    "\n",
    "data_file = 'Kaggle_WhatsCooking_train.json'       # Named train.json on Kaggle site"
   ]
  },
  {
   "cell_type": "code",
   "execution_count": 3,
   "metadata": {},
   "outputs": [
    {
     "name": "stdout",
     "output_type": "stream",
     "text": [
      "Kaggle_WhatsCooking_train.json\r\n"
     ]
    }
   ],
   "source": [
    "!ls *.json"
   ]
  },
  {
   "cell_type": "code",
   "execution_count": 4,
   "metadata": {
    "collapsed": true
   },
   "outputs": [],
   "source": [
    "recipes = pd.read_json('Kaggle_WhatsCooking_train.json')"
   ]
  },
  {
   "cell_type": "code",
   "execution_count": 5,
   "metadata": {},
   "outputs": [
    {
     "name": "stdout",
     "output_type": "stream",
     "text": [
      "<class 'pandas.core.frame.DataFrame'>\n",
      "Int64Index: 39774 entries, 0 to 39773\n",
      "Data columns (total 3 columns):\n",
      "cuisine        39774 non-null object\n",
      "id             39774 non-null int64\n",
      "ingredients    39774 non-null object\n",
      "dtypes: int64(1), object(2)\n",
      "memory usage: 1.2+ MB\n"
     ]
    }
   ],
   "source": [
    "recipes.info()"
   ]
  },
  {
   "cell_type": "code",
   "execution_count": 6,
   "metadata": {},
   "outputs": [
    {
     "data": {
      "text/plain": [
       "italian         7838\n",
       "mexican         6438\n",
       "southern_us     4320\n",
       "indian          3003\n",
       "chinese         2673\n",
       "french          2646\n",
       "cajun_creole    1546\n",
       "thai            1539\n",
       "japanese        1423\n",
       "greek           1175\n",
       "spanish          989\n",
       "korean           830\n",
       "vietnamese       825\n",
       "moroccan         821\n",
       "british          804\n",
       "filipino         755\n",
       "irish            667\n",
       "jamaican         526\n",
       "russian          489\n",
       "brazilian        467\n",
       "Name: cuisine, dtype: int64"
      ]
     },
     "execution_count": 6,
     "metadata": {},
     "output_type": "execute_result"
    }
   ],
   "source": [
    "recipes.cuisine.value_counts()"
   ]
  },
  {
   "cell_type": "code",
   "execution_count": 7,
   "metadata": {},
   "outputs": [
    {
     "data": {
      "text/plain": [
       "20"
      ]
     },
     "execution_count": 7,
     "metadata": {},
     "output_type": "execute_result"
    }
   ],
   "source": [
    "recipes.cuisine.nunique()"
   ]
  },
  {
   "cell_type": "code",
   "execution_count": 8,
   "metadata": {},
   "outputs": [],
   "source": [
    "ingredients = recipes.ingredients.apply(pd.Series).stack().value_counts()"
   ]
  },
  {
   "cell_type": "code",
   "execution_count": 9,
   "metadata": {},
   "outputs": [
    {
     "data": {
      "text/plain": [
       "6714"
      ]
     },
     "execution_count": 9,
     "metadata": {},
     "output_type": "execute_result"
    }
   ],
   "source": [
    "len(ingredients)"
   ]
  },
  {
   "cell_type": "code",
   "execution_count": 10,
   "metadata": {},
   "outputs": [],
   "source": [
    "allergy_profile = ['butter', 'milk', 'peanuts', 'pecan', 'nuts', 'fish']\n",
    "\n",
    "# Examples of addition dietary profiles\n",
    "\n",
    "vegan_profile = ['beef', 'chicken', 'pork', 'etc...']\n",
    "\n",
    "muslim_profile = ['pork', 'halal', 'etc...']\n",
    " \n",
    "vegetarian = []\n",
    "\n",
    "paleo = []\n",
    "\n",
    "intolerant = []\n",
    "\n",
    "medical = []\n",
    "\n",
    "personal_pref = []\n",
    "\n",
    "\n",
    "# Check on text matching - is it partial of whole word (would think whole word)"
   ]
  },
  {
   "cell_type": "code",
   "execution_count": 11,
   "metadata": {},
   "outputs": [
    {
     "data": {
      "text/plain": [
       "butter     0.722073\n",
       "milk       0.337057\n",
       "peanuts    0.060471\n",
       "pecan           NaN\n",
       "nuts       0.005213\n",
       "fish       0.013554\n",
       "dtype: float64"
      ]
     },
     "execution_count": 11,
     "metadata": {},
     "output_type": "execute_result"
    }
   ],
   "source": [
    "ingredients[allergy_profile] / len(ingredients)"
   ]
  },
  {
   "cell_type": "code",
   "execution_count": 12,
   "metadata": {},
   "outputs": [
    {
     "data": {
      "text/html": [
       "<div>\n",
       "<style>\n",
       "    .dataframe thead tr:only-child th {\n",
       "        text-align: right;\n",
       "    }\n",
       "\n",
       "    .dataframe thead th {\n",
       "        text-align: left;\n",
       "    }\n",
       "\n",
       "    .dataframe tbody tr th {\n",
       "        vertical-align: top;\n",
       "    }\n",
       "</style>\n",
       "<table border=\"1\" class=\"dataframe\">\n",
       "  <thead>\n",
       "    <tr style=\"text-align: right;\">\n",
       "      <th></th>\n",
       "      <th>cuisine</th>\n",
       "      <th>id</th>\n",
       "      <th>ingredients</th>\n",
       "    </tr>\n",
       "  </thead>\n",
       "  <tbody>\n",
       "    <tr>\n",
       "      <th>0</th>\n",
       "      <td>greek</td>\n",
       "      <td>10259</td>\n",
       "      <td>[romaine lettuce, black olives, grape tomatoes...</td>\n",
       "    </tr>\n",
       "    <tr>\n",
       "      <th>1</th>\n",
       "      <td>southern_us</td>\n",
       "      <td>25693</td>\n",
       "      <td>[plain flour, ground pepper, salt, tomatoes, g...</td>\n",
       "    </tr>\n",
       "    <tr>\n",
       "      <th>2</th>\n",
       "      <td>filipino</td>\n",
       "      <td>20130</td>\n",
       "      <td>[eggs, pepper, salt, mayonaise, cooking oil, g...</td>\n",
       "    </tr>\n",
       "    <tr>\n",
       "      <th>3</th>\n",
       "      <td>indian</td>\n",
       "      <td>22213</td>\n",
       "      <td>[water, vegetable oil, wheat, salt]</td>\n",
       "    </tr>\n",
       "    <tr>\n",
       "      <th>4</th>\n",
       "      <td>indian</td>\n",
       "      <td>13162</td>\n",
       "      <td>[black pepper, shallots, cornflour, cayenne pe...</td>\n",
       "    </tr>\n",
       "  </tbody>\n",
       "</table>\n",
       "</div>"
      ],
      "text/plain": [
       "       cuisine     id                                        ingredients\n",
       "0        greek  10259  [romaine lettuce, black olives, grape tomatoes...\n",
       "1  southern_us  25693  [plain flour, ground pepper, salt, tomatoes, g...\n",
       "2     filipino  20130  [eggs, pepper, salt, mayonaise, cooking oil, g...\n",
       "3       indian  22213                [water, vegetable oil, wheat, salt]\n",
       "4       indian  13162  [black pepper, shallots, cornflour, cayenne pe..."
      ]
     },
     "execution_count": 12,
     "metadata": {},
     "output_type": "execute_result"
    }
   ],
   "source": [
    "recipes.head(5)"
   ]
  },
  {
   "cell_type": "code",
   "execution_count": 13,
   "metadata": {
    "collapsed": true
   },
   "outputs": [],
   "source": [
    "# Find all recipes that DON'T contain allergens and then group by cuisine"
   ]
  },
  {
   "cell_type": "code",
   "execution_count": 14,
   "metadata": {},
   "outputs": [
    {
     "data": {
      "text/plain": [
       "['plain flour',\n",
       " 'ground pepper',\n",
       " 'salt',\n",
       " 'tomatoes',\n",
       " 'ground black pepper',\n",
       " 'thyme',\n",
       " 'eggs',\n",
       " 'green tomatoes',\n",
       " 'yellow corn meal',\n",
       " 'milk',\n",
       " 'vegetable oil']"
      ]
     },
     "execution_count": 14,
     "metadata": {},
     "output_type": "execute_result"
    }
   ],
   "source": [
    "recipes.ingredients[1]"
   ]
  },
  {
   "cell_type": "code",
   "execution_count": 15,
   "metadata": {},
   "outputs": [],
   "source": [
    "def allergens_in_ingredients(allergens, ingredients, n_allergens):\n",
    "    inter = set(allergens).intersection(set(ingredients))\n",
    "    if len(inter) > n_allergens:\n",
    "        return 1\n",
    "    else:\n",
    "        return 0"
   ]
  },
  {
   "cell_type": "code",
   "execution_count": 16,
   "metadata": {},
   "outputs": [
    {
     "data": {
      "text/plain": [
       "0"
      ]
     },
     "execution_count": 16,
     "metadata": {},
     "output_type": "execute_result"
    }
   ],
   "source": [
    "allergens_in_ingredients(allergy_profile, recipes.ingredients[1], 1)"
   ]
  },
  {
   "cell_type": "code",
   "execution_count": 17,
   "metadata": {},
   "outputs": [
    {
     "data": {
      "text/plain": [
       "['plain flour',\n",
       " 'ground pepper',\n",
       " 'salt',\n",
       " 'tomatoes',\n",
       " 'ground black pepper',\n",
       " 'thyme',\n",
       " 'eggs',\n",
       " 'green tomatoes',\n",
       " 'yellow corn meal',\n",
       " 'milk',\n",
       " 'vegetable oil']"
      ]
     },
     "execution_count": 17,
     "metadata": {},
     "output_type": "execute_result"
    }
   ],
   "source": [
    "recipes.ingredients[1]"
   ]
  },
  {
   "cell_type": "code",
   "execution_count": 18,
   "metadata": {},
   "outputs": [],
   "source": [
    "recipes['has_most1_allergen'] = recipes.ingredients.apply(lambda ingred: allergens_in_ingredients(allergy_profile, ingred, 1))"
   ]
  },
  {
   "cell_type": "code",
   "execution_count": 19,
   "metadata": {
    "collapsed": true
   },
   "outputs": [],
   "source": [
    "recipes['has_any_allergen'] = recipes.ingredients.apply(lambda ingred: allergens_in_ingredients(allergy_profile, ingred, 0))"
   ]
  },
  {
   "cell_type": "code",
   "execution_count": 20,
   "metadata": {},
   "outputs": [
    {
     "data": {
      "text/html": [
       "<div>\n",
       "<style>\n",
       "    .dataframe thead tr:only-child th {\n",
       "        text-align: right;\n",
       "    }\n",
       "\n",
       "    .dataframe thead th {\n",
       "        text-align: left;\n",
       "    }\n",
       "\n",
       "    .dataframe tbody tr th {\n",
       "        vertical-align: top;\n",
       "    }\n",
       "</style>\n",
       "<table border=\"1\" class=\"dataframe\">\n",
       "  <thead>\n",
       "    <tr style=\"text-align: right;\">\n",
       "      <th></th>\n",
       "      <th>cuisine</th>\n",
       "      <th>id</th>\n",
       "      <th>ingredients</th>\n",
       "      <th>has_most1_allergen</th>\n",
       "      <th>has_any_allergen</th>\n",
       "    </tr>\n",
       "  </thead>\n",
       "  <tbody>\n",
       "    <tr>\n",
       "      <th>0</th>\n",
       "      <td>greek</td>\n",
       "      <td>10259</td>\n",
       "      <td>[romaine lettuce, black olives, grape tomatoes...</td>\n",
       "      <td>0</td>\n",
       "      <td>0</td>\n",
       "    </tr>\n",
       "    <tr>\n",
       "      <th>1</th>\n",
       "      <td>southern_us</td>\n",
       "      <td>25693</td>\n",
       "      <td>[plain flour, ground pepper, salt, tomatoes, g...</td>\n",
       "      <td>0</td>\n",
       "      <td>1</td>\n",
       "    </tr>\n",
       "    <tr>\n",
       "      <th>2</th>\n",
       "      <td>filipino</td>\n",
       "      <td>20130</td>\n",
       "      <td>[eggs, pepper, salt, mayonaise, cooking oil, g...</td>\n",
       "      <td>0</td>\n",
       "      <td>1</td>\n",
       "    </tr>\n",
       "    <tr>\n",
       "      <th>3</th>\n",
       "      <td>indian</td>\n",
       "      <td>22213</td>\n",
       "      <td>[water, vegetable oil, wheat, salt]</td>\n",
       "      <td>0</td>\n",
       "      <td>0</td>\n",
       "    </tr>\n",
       "    <tr>\n",
       "      <th>4</th>\n",
       "      <td>indian</td>\n",
       "      <td>13162</td>\n",
       "      <td>[black pepper, shallots, cornflour, cayenne pe...</td>\n",
       "      <td>1</td>\n",
       "      <td>1</td>\n",
       "    </tr>\n",
       "    <tr>\n",
       "      <th>5</th>\n",
       "      <td>jamaican</td>\n",
       "      <td>6602</td>\n",
       "      <td>[plain flour, sugar, butter, eggs, fresh ginge...</td>\n",
       "      <td>1</td>\n",
       "      <td>1</td>\n",
       "    </tr>\n",
       "    <tr>\n",
       "      <th>6</th>\n",
       "      <td>spanish</td>\n",
       "      <td>42779</td>\n",
       "      <td>[olive oil, salt, medium shrimp, pepper, garli...</td>\n",
       "      <td>0</td>\n",
       "      <td>0</td>\n",
       "    </tr>\n",
       "    <tr>\n",
       "      <th>7</th>\n",
       "      <td>italian</td>\n",
       "      <td>3735</td>\n",
       "      <td>[sugar, pistachio nuts, white almond bark, flo...</td>\n",
       "      <td>0</td>\n",
       "      <td>0</td>\n",
       "    </tr>\n",
       "    <tr>\n",
       "      <th>8</th>\n",
       "      <td>mexican</td>\n",
       "      <td>16903</td>\n",
       "      <td>[olive oil, purple onion, fresh pineapple, por...</td>\n",
       "      <td>0</td>\n",
       "      <td>0</td>\n",
       "    </tr>\n",
       "    <tr>\n",
       "      <th>9</th>\n",
       "      <td>italian</td>\n",
       "      <td>12734</td>\n",
       "      <td>[chopped tomatoes, fresh basil, garlic, extra-...</td>\n",
       "      <td>0</td>\n",
       "      <td>0</td>\n",
       "    </tr>\n",
       "  </tbody>\n",
       "</table>\n",
       "</div>"
      ],
      "text/plain": [
       "       cuisine     id                                        ingredients  \\\n",
       "0        greek  10259  [romaine lettuce, black olives, grape tomatoes...   \n",
       "1  southern_us  25693  [plain flour, ground pepper, salt, tomatoes, g...   \n",
       "2     filipino  20130  [eggs, pepper, salt, mayonaise, cooking oil, g...   \n",
       "3       indian  22213                [water, vegetable oil, wheat, salt]   \n",
       "4       indian  13162  [black pepper, shallots, cornflour, cayenne pe...   \n",
       "5     jamaican   6602  [plain flour, sugar, butter, eggs, fresh ginge...   \n",
       "6      spanish  42779  [olive oil, salt, medium shrimp, pepper, garli...   \n",
       "7      italian   3735  [sugar, pistachio nuts, white almond bark, flo...   \n",
       "8      mexican  16903  [olive oil, purple onion, fresh pineapple, por...   \n",
       "9      italian  12734  [chopped tomatoes, fresh basil, garlic, extra-...   \n",
       "\n",
       "   has_most1_allergen  has_any_allergen  \n",
       "0                   0                 0  \n",
       "1                   0                 1  \n",
       "2                   0                 1  \n",
       "3                   0                 0  \n",
       "4                   1                 1  \n",
       "5                   1                 1  \n",
       "6                   0                 0  \n",
       "7                   0                 0  \n",
       "8                   0                 0  \n",
       "9                   0                 0  "
      ]
     },
     "execution_count": 20,
     "metadata": {},
     "output_type": "execute_result"
    }
   ],
   "source": [
    "recipes.head(10)"
   ]
  },
  {
   "cell_type": "code",
   "execution_count": 21,
   "metadata": {},
   "outputs": [],
   "source": [
    "tmp = recipes.groupby('cuisine')['has_any_allergen'].value_counts()"
   ]
  },
  {
   "cell_type": "code",
   "execution_count": 22,
   "metadata": {},
   "outputs": [],
   "source": [
    "recipes['cuisine_code'] = recipes['cuisine'].apply(lambda cuisine: cuisine[0:3])"
   ]
  },
  {
   "cell_type": "code",
   "execution_count": 23,
   "metadata": {},
   "outputs": [
    {
     "data": {
      "text/plain": [
       "20"
      ]
     },
     "execution_count": 23,
     "metadata": {},
     "output_type": "execute_result"
    }
   ],
   "source": [
    "recipes.cuisine.nunique()"
   ]
  },
  {
   "cell_type": "code",
   "execution_count": 24,
   "metadata": {},
   "outputs": [
    {
     "data": {
      "text/plain": [
       "20"
      ]
     },
     "execution_count": 24,
     "metadata": {},
     "output_type": "execute_result"
    }
   ],
   "source": [
    "recipes.cuisine_code.nunique()"
   ]
  },
  {
   "cell_type": "code",
   "execution_count": 25,
   "metadata": {},
   "outputs": [
    {
     "data": {
      "image/png": "[encoded data removed]",
      "text/plain": [
       "<matplotlib.figure.Figure at 0x11feb3860>"
      ]
     },
     "metadata": {},
     "output_type": "display_data"
    }
   ],
   "source": [
    "factor = 1.4\n",
    "a4_dims = (11.7*factor, 8.27*factor)\n",
    "fig, ax = plt.subplots(figsize=a4_dims)\n",
    "sns.countplot(x='cuisine_code', hue='has_any_allergen', data=recipes)\n",
    "ax.tick_params(labelsize=14)"
   ]
  },
  {
   "cell_type": "code",
   "execution_count": 26,
   "metadata": {
    "collapsed": true
   },
   "outputs": [],
   "source": [
    "tmp1 = recipes.groupby('cuisine')['has_most1_allergen'].value_counts()"
   ]
  },
  {
   "cell_type": "code",
   "execution_count": 27,
   "metadata": {},
   "outputs": [
    {
     "data": {
      "image/png": "[encoded data removed]",
      "text/plain": [
       "<matplotlib.figure.Figure at 0x11eaf4cf8>"
      ]
     },
     "metadata": {},
     "output_type": "display_data"
    }
   ],
   "source": [
    "## Figure 1: Towards a personalized allergy index. [LEFT] A count of all recipes in the dataset by country containing \n",
    "#            none of the allergens in the personsal allergy profile (blue bars), compared to those which contain \n",
    "#            1 or more of the allergens (green bars). \n",
    "#            [RIGHT] A count of all recipes in the dataset by country containing \n",
    "#            no more than 1 of the allergens in the personsal allergy profile (blue bars), compared to those\n",
    "#            containing two or more of the allergens in the personsal allergy profile.\n",
    "#            Relaxing the number of allergens to be considered in the profile by one clearly can bring a lot of \n",
    "#            recipes \"back on to the table\". Looking at, for example, the ratios of such value counts is a crude \n",
    "#            first step towards constructing an allergy \"index\" for a particular cuisine/country.\n",
    "#            Note: the sum of each pair of blue and green bars will be equal between the two panels.\n",
    "\n",
    "factor = 2\n",
    "a4_dims = (11.7*factor, 8.27)\n",
    "#fig, ax = plt.subplots(figsize=a4_dims)\n",
    "fig, (ax1, ax2) = plt.subplots(ncols=2, sharey=True, figsize=a4_dims)\n",
    "sns.countplot(x='cuisine_code', hue='has_any_allergen', data=recipes, ax=ax1).set_title('No allergens')\n",
    "sns.countplot(x='cuisine_code', hue='has_most1_allergen', data=recipes, ax=ax2).set_title('At most 1 allergen')\n",
    "ax2.set_ylim(0,8000)\n",
    "ax1.tick_params(labelsize=14)\n",
    "ax2.tick_params(labelsize=14)"
   ]
  },
  {
   "cell_type": "markdown",
   "metadata": {},
   "source": [
    "#### So by relaxing on 1 allergen ingredient only in a recipe it allows [in this example] for many more recipes to be 'back on the table'."
   ]
  },
  {
   "cell_type": "code",
   "execution_count": 28,
   "metadata": {
    "collapsed": true
   },
   "outputs": [],
   "source": [
    "recipes['n_ingredients'] = recipes.ingredients.apply(lambda ingred : len(ingred))"
   ]
  },
  {
   "cell_type": "code",
   "execution_count": 29,
   "metadata": {},
   "outputs": [
    {
     "data": {
      "text/html": [
       "<div>\n",
       "<style>\n",
       "    .dataframe thead tr:only-child th {\n",
       "        text-align: right;\n",
       "    }\n",
       "\n",
       "    .dataframe thead th {\n",
       "        text-align: left;\n",
       "    }\n",
       "\n",
       "    .dataframe tbody tr th {\n",
       "        vertical-align: top;\n",
       "    }\n",
       "</style>\n",
       "<table border=\"1\" class=\"dataframe\">\n",
       "  <thead>\n",
       "    <tr style=\"text-align: right;\">\n",
       "      <th></th>\n",
       "      <th>cuisine</th>\n",
       "      <th>id</th>\n",
       "      <th>ingredients</th>\n",
       "      <th>has_most1_allergen</th>\n",
       "      <th>has_any_allergen</th>\n",
       "      <th>cuisine_code</th>\n",
       "      <th>n_ingredients</th>\n",
       "    </tr>\n",
       "  </thead>\n",
       "  <tbody>\n",
       "    <tr>\n",
       "      <th>0</th>\n",
       "      <td>greek</td>\n",
       "      <td>10259</td>\n",
       "      <td>[romaine lettuce, black olives, grape tomatoes...</td>\n",
       "      <td>0</td>\n",
       "      <td>0</td>\n",
       "      <td>gre</td>\n",
       "      <td>9</td>\n",
       "    </tr>\n",
       "    <tr>\n",
       "      <th>1</th>\n",
       "      <td>southern_us</td>\n",
       "      <td>25693</td>\n",
       "      <td>[plain flour, ground pepper, salt, tomatoes, g...</td>\n",
       "      <td>0</td>\n",
       "      <td>1</td>\n",
       "      <td>sou</td>\n",
       "      <td>11</td>\n",
       "    </tr>\n",
       "    <tr>\n",
       "      <th>2</th>\n",
       "      <td>filipino</td>\n",
       "      <td>20130</td>\n",
       "      <td>[eggs, pepper, salt, mayonaise, cooking oil, g...</td>\n",
       "      <td>0</td>\n",
       "      <td>1</td>\n",
       "      <td>fil</td>\n",
       "      <td>12</td>\n",
       "    </tr>\n",
       "    <tr>\n",
       "      <th>3</th>\n",
       "      <td>indian</td>\n",
       "      <td>22213</td>\n",
       "      <td>[water, vegetable oil, wheat, salt]</td>\n",
       "      <td>0</td>\n",
       "      <td>0</td>\n",
       "      <td>ind</td>\n",
       "      <td>4</td>\n",
       "    </tr>\n",
       "    <tr>\n",
       "      <th>4</th>\n",
       "      <td>indian</td>\n",
       "      <td>13162</td>\n",
       "      <td>[black pepper, shallots, cornflour, cayenne pe...</td>\n",
       "      <td>1</td>\n",
       "      <td>1</td>\n",
       "      <td>ind</td>\n",
       "      <td>20</td>\n",
       "    </tr>\n",
       "  </tbody>\n",
       "</table>\n",
       "</div>"
      ],
      "text/plain": [
       "       cuisine     id                                        ingredients  \\\n",
       "0        greek  10259  [romaine lettuce, black olives, grape tomatoes...   \n",
       "1  southern_us  25693  [plain flour, ground pepper, salt, tomatoes, g...   \n",
       "2     filipino  20130  [eggs, pepper, salt, mayonaise, cooking oil, g...   \n",
       "3       indian  22213                [water, vegetable oil, wheat, salt]   \n",
       "4       indian  13162  [black pepper, shallots, cornflour, cayenne pe...   \n",
       "\n",
       "   has_most1_allergen  has_any_allergen cuisine_code  n_ingredients  \n",
       "0                   0                 0          gre              9  \n",
       "1                   0                 1          sou             11  \n",
       "2                   0                 1          fil             12  \n",
       "3                   0                 0          ind              4  \n",
       "4                   1                 1          ind             20  "
      ]
     },
     "execution_count": 29,
     "metadata": {},
     "output_type": "execute_result"
    }
   ],
   "source": [
    "recipes.head(5)"
   ]
  },
  {
   "cell_type": "code",
   "execution_count": 30,
   "metadata": {},
   "outputs": [
    {
     "data": {
      "image/png": "[encoded data removed]",
      "text/plain": [
       "<matplotlib.figure.Figure at 0x11feb3748>"
      ]
     },
     "metadata": {},
     "output_type": "display_data"
    }
   ],
   "source": [
    "## Figure 2: Examining data quality. This plot shows the distribution of the number of ingredients in each recipe.\n",
    "#            Note the plot is truncated at 30 ingredients given the long right tail of the distribution.\n",
    "#            There is some curious step-like structure in the distribution at 5, 10, 15 and 20 ingredients.\n",
    "#            Perhaps the best recipes are \"divisible by 5\"! However, the plot demonstrates that there are\n",
    "#            a number of recipes around (0.5%) that have more than 25 ingredients, with a few (3) having over\n",
    "#            50 ingredients. Based on my initial research I believe this is a data issue and not some exotic recipe!\n",
    "#            As with any project, the quality of the outcomes are at best as good as the data inputs.\n",
    "#            So part of this project will be to work with the data directly via the Yummly API and to create some\n",
    "#            thorough quality metrics before going too far into more detailed analysis.\n",
    "\n",
    "\n",
    "factor = 1.2\n",
    "a4_dims = (11.7*factor, 8.27*factor)\n",
    "fig, ax = plt.subplots(figsize=a4_dims)\n",
    "sns.distplot(recipes.n_ingredients)\n",
    "ax.set_xlim(0,30)\n",
    "ax.tick_params(labelsize=14)"
   ]
  },
  {
   "cell_type": "code",
   "execution_count": 31,
   "metadata": {},
   "outputs": [
    {
     "data": {
      "text/plain": [
       "False    0.995751\n",
       "True     0.004249\n",
       "Name: n_ingredients, dtype: float64"
      ]
     },
     "execution_count": 31,
     "metadata": {},
     "output_type": "execute_result"
    }
   ],
   "source": [
    "(recipes.n_ingredients > 25).value_counts() / len(recipes)"
   ]
  },
  {
   "cell_type": "code",
   "execution_count": 32,
   "metadata": {},
   "outputs": [
    {
     "data": {
      "text/plain": [
       "65"
      ]
     },
     "execution_count": 32,
     "metadata": {},
     "output_type": "execute_result"
    }
   ],
   "source": [
    "recipes.n_ingredients.max()"
   ]
  },
  {
   "cell_type": "markdown",
   "metadata": {},
   "source": [
    "#### Comment: very long right tail for number of ingredients?! Looks like problem with a few recipes"
   ]
  },
  {
   "cell_type": "code",
   "execution_count": 33,
   "metadata": {},
   "outputs": [
    {
     "data": {
      "text/plain": [
       "10.76771257605471"
      ]
     },
     "execution_count": 33,
     "metadata": {},
     "output_type": "execute_result"
    }
   ],
   "source": [
    "recipes.n_ingredients.mean()"
   ]
  },
  {
   "cell_type": "code",
   "execution_count": 34,
   "metadata": {},
   "outputs": [
    {
     "data": {
      "text/plain": [
       "10.0"
      ]
     },
     "execution_count": 34,
     "metadata": {},
     "output_type": "execute_result"
    }
   ],
   "source": [
    "recipes.n_ingredients.median()"
   ]
  },
  {
   "cell_type": "code",
   "execution_count": 35,
   "metadata": {},
   "outputs": [
    {
     "data": {
      "text/plain": [
       "4.428977570208113"
      ]
     },
     "execution_count": 35,
     "metadata": {},
     "output_type": "execute_result"
    }
   ],
   "source": [
    "recipes.n_ingredients.std()"
   ]
  },
  {
   "cell_type": "code",
   "execution_count": 36,
   "metadata": {},
   "outputs": [
    {
     "data": {
      "text/html": [
       "<div>\n",
       "<style>\n",
       "    .dataframe thead tr:only-child th {\n",
       "        text-align: right;\n",
       "    }\n",
       "\n",
       "    .dataframe thead th {\n",
       "        text-align: left;\n",
       "    }\n",
       "\n",
       "    .dataframe tbody tr th {\n",
       "        vertical-align: top;\n",
       "    }\n",
       "</style>\n",
       "<table border=\"1\" class=\"dataframe\">\n",
       "  <thead>\n",
       "    <tr style=\"text-align: right;\">\n",
       "      <th></th>\n",
       "      <th>cuisine</th>\n",
       "      <th>id</th>\n",
       "      <th>ingredients</th>\n",
       "      <th>has_most1_allergen</th>\n",
       "      <th>has_any_allergen</th>\n",
       "      <th>cuisine_code</th>\n",
       "      <th>n_ingredients</th>\n",
       "    </tr>\n",
       "  </thead>\n",
       "  <tbody>\n",
       "    <tr>\n",
       "      <th>15289</th>\n",
       "      <td>italian</td>\n",
       "      <td>3885</td>\n",
       "      <td>[fettucine, fresh marjoram, minced garlic, oli...</td>\n",
       "      <td>1</td>\n",
       "      <td>1</td>\n",
       "      <td>ita</td>\n",
       "      <td>65</td>\n",
       "    </tr>\n",
       "    <tr>\n",
       "      <th>26103</th>\n",
       "      <td>mexican</td>\n",
       "      <td>13049</td>\n",
       "      <td>[vanilla ice cream, lime, garlic powder, zucch...</td>\n",
       "      <td>0</td>\n",
       "      <td>1</td>\n",
       "      <td>mex</td>\n",
       "      <td>52</td>\n",
       "    </tr>\n",
       "    <tr>\n",
       "      <th>30350</th>\n",
       "      <td>brazilian</td>\n",
       "      <td>13430</td>\n",
       "      <td>[marshmallows, fresh corn, cheddar cheese, shr...</td>\n",
       "      <td>1</td>\n",
       "      <td>1</td>\n",
       "      <td>bra</td>\n",
       "      <td>59</td>\n",
       "    </tr>\n",
       "  </tbody>\n",
       "</table>\n",
       "</div>"
      ],
      "text/plain": [
       "         cuisine     id                                        ingredients  \\\n",
       "15289    italian   3885  [fettucine, fresh marjoram, minced garlic, oli...   \n",
       "26103    mexican  13049  [vanilla ice cream, lime, garlic powder, zucch...   \n",
       "30350  brazilian  13430  [marshmallows, fresh corn, cheddar cheese, shr...   \n",
       "\n",
       "       has_most1_allergen  has_any_allergen cuisine_code  n_ingredients  \n",
       "15289                   1                 1          ita             65  \n",
       "26103                   0                 1          mex             52  \n",
       "30350                   1                 1          bra             59  "
      ]
     },
     "execution_count": 36,
     "metadata": {},
     "output_type": "execute_result"
    }
   ],
   "source": [
    "recipes[recipes.n_ingredients > 50]"
   ]
  },
  {
   "cell_type": "code",
   "execution_count": 37,
   "metadata": {},
   "outputs": [
    {
     "name": "stdout",
     "output_type": "stream",
     "text": [
      "['marshmallows', 'fresh corn', 'cheddar cheese', 'shredded coconut', 'water', 'honey', 'baking soda', 'dijon mustard', 'sweet potatoes', 'chicken breasts', 'vegetable oil', 'salt', 'condensed milk', 'candy', 'canola oil', 'eggs', 'brown sugar', 'glutinous rice', 'white onion', 'dashi', 'whole wheat flour', 'oat flour', 'flour', 'boneless skinless chicken breasts', 'fresh thyme leaves', 'sprinkles', 'grated lemon zest', 'ham', 'white sugar', 'avocado', 'chili flakes', 'coconut oil', 'skim milk', 'pepper', 'kale', 'parmesan cheese', 'unsalted butter', 'tapioca starch', 'baking powder', 'parsley', 'vanilla extract', 'cream cheese', 'coconut milk', 'chocolate chips', 'low sodium soy sauce', 'powdered sugar', 'sugar', 'muffin', 'milk', 'olive oil', 'bananas', 'large eggs', 'green onions', 'swiss cheese', 'butter', 'all-purpose flour', 'dark brown sugar', 'panko breadcrumbs', 'low-fat milk']\n"
     ]
    }
   ],
   "source": [
    "for ingredient in recipes[recipes.id == 13430].ingredients:\n",
    "    print(ingredient)"
   ]
  },
  {
   "cell_type": "markdown",
   "metadata": {},
   "source": [
    "#### Is this really a recipe? 59 ingredients? Maybe some issue in collating the data?"
   ]
  },
  {
   "cell_type": "markdown",
   "metadata": {},
   "source": [
    "-------\n",
    "\n",
    "## Initial Yummly API investigation"
   ]
  },
  {
   "cell_type": "markdown",
   "metadata": {},
   "source": [
    "##### It appears that the unofficial Python Yummly package may have a bug in it (or my installed version) as it cannot be imported (unless it is written in Python 2.x for example) - anyway can investigate this as part of the Fellowship."
   ]
  },
  {
   "cell_type": "code",
   "execution_count": 38,
   "metadata": {},
   "outputs": [
    {
     "ename": "ModuleNotFoundError",
     "evalue": "No module named 'client'",
     "output_type": "error",
     "traceback": [
      "\u001b[0;31m---------------------------------------------------------------------------\u001b[0m",
      "\u001b[0;31mModuleNotFoundError\u001b[0m                       Traceback (most recent call last)",
      "\u001b[0;32m<ipython-input-38-6070dc1462ac>\u001b[0m in \u001b[0;36m<module>\u001b[0;34m()\u001b[0m\n\u001b[1;32m      4\u001b[0m \u001b[0;34m\u001b[0m\u001b[0m\n\u001b[1;32m      5\u001b[0m \u001b[0;31m#from yummly import Client\u001b[0m\u001b[0;34m\u001b[0m\u001b[0;34m\u001b[0m\u001b[0m\n\u001b[0;32m----> 6\u001b[0;31m \u001b[0;32mimport\u001b[0m \u001b[0myummly\u001b[0m\u001b[0;34m\u001b[0m\u001b[0m\n\u001b[0m",
      "\u001b[0;32m/Users/adminmichael1/anaconda/lib/python3.6/site-packages/yummly/__init__.py\u001b[0m in \u001b[0;36m<module>\u001b[0;34m()\u001b[0m\n\u001b[1;32m      4\u001b[0m \"\"\"\n\u001b[1;32m      5\u001b[0m \u001b[0;34m\u001b[0m\u001b[0m\n\u001b[0;32m----> 6\u001b[0;31m \u001b[0;32mfrom\u001b[0m \u001b[0mclient\u001b[0m \u001b[0;32mimport\u001b[0m \u001b[0mClient\u001b[0m\u001b[0;34m,\u001b[0m \u001b[0mYummlyError\u001b[0m\u001b[0;34m,\u001b[0m \u001b[0mTimeout\u001b[0m\u001b[0;34m\u001b[0m\u001b[0m\n\u001b[0m\u001b[1;32m      7\u001b[0m \u001b[0;34m\u001b[0m\u001b[0m\n\u001b[1;32m      8\u001b[0m from .__meta__ import (\n",
      "\u001b[0;31mModuleNotFoundError\u001b[0m: No module named 'client'"
     ]
    }
   ],
   "source": [
    "# TODO: First need to verify that the Python Yummly API wrapper actually has been tested properly\n",
    "#\n",
    "# !pip install yummly\n",
    "\n",
    "#from yummly import Client\n",
    "import yummly"
   ]
  },
  {
   "cell_type": "code",
   "execution_count": null,
   "metadata": {
    "collapsed": true
   },
   "outputs": [],
   "source": [
    "# default option values\n",
    "TIMEOUT = 5.0\n",
    "RETRIES = 0\n",
    "\n",
    "# Yummly mjboothaus account: Hackathon Plan - Access granted 24 July 2017\n",
    "API_ID  = 'b4f167ed'\n",
    "API_KEY = 'f69184af19beb4b76e7b7b1984046581'\n",
    "\n",
    "client = Client(api_id=API_ID, api_key=API_KEY, timeout=TIMEOUT, retries=RETRIES)\n",
    "\n",
    "search = client.search('green eggs and ham')\n",
    "match  = search.matches[0]\n",
    "\n",
    "matich.id\n",
    "\n",
    "recipe = client.recipe(match.id)"
   ]
  }
 ],
 "metadata": {
  "kernelspec": {
   "display_name": "Python 3",
   "language": "python",
   "name": "python3"
  },
  "language_info": {
   "codemirror_mode": {
    "name": "ipython",
    "version": 3
   },
   "file_extension": ".py",
   "mimetype": "text/x-python",
   "name": "python",
   "nbconvert_exporter": "python",
   "pygments_lexer": "ipython3",
   "version": "3.6.1"
  }
 },
 "nbformat": 4,
 "nbformat_minor": 2
}
