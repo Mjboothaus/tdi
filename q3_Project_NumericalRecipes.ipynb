{
 "cells": [
  {
   "cell_type": "markdown",
   "metadata": {},
   "source": [
    "# Q3. Project - Numerical Recipes!"
   ]
  },
  {
   "cell_type": "markdown",
   "metadata": {},
   "source": [
    "#### Propose a project to do while at The Data Incubator. \n",
    "\n",
    "We want to know about your ability to think at a high level. Try to think of projects that users or businesses will care about that are also relatively unanalyzed. Here are some useful links about data sources on our blog as well as the archive of data sources on Data is Plural. You can see some final projects of previous Fellows on our YouTube Page.\n",
    "\n",
    "#### Propose a project that uses a large, publicly accessible dataset. \n",
    "\n",
    "Explain your motivation for tackling this problem, discuss the data source(s) you are using, and explain the analysis you are performing. At a minimum, you will need to do enough exploratory data analysis to convince someone that the project is viable and generate two interesting non-trivial plots supporting this. The most impressive applicants have even finished a \"rough draft\" of their projects and have derived non-obvious meaningful conclusions from their data. Explain the plots and give url links to them. For guidance on how to choose a project, check out this blog post.\n",
    "\n",
    "#### Propose a project.\n",
    "\n",
    "TODO: Insert project description\n",
    "\n",
    "* Motivation\n",
    "* Data source discussion\n",
    "* Analysis approach\n",
    "* Introductory EDA\n",
    "* Convince viable AND interesting\n",
    "\n",
    "#### Link to public description of data source. \n",
    "e.g. [http://blog.thedataincubator.com/tag/data-sources/]\n",
    "\n",
    "#### Link to 1st plot. \n",
    "\n",
    "*You are highly encouraged to use a Heroku apps domain for your hosting.* \n",
    "\n",
    "e.g. [http://example.herokuapp.com/]\n",
    "\n",
    "#### Link to 2nd plot.\n",
    "e.g. [http://example.herokuapp.com/]\n",
    "\n",
    "#### How much data did you analyze (in MB)?* \n",
    "\n",
    "1234\n",
    "\n",
    "#### How did you obtain your dataset? (Please check all that apply.)\n",
    "\n",
    "I downloaded a dataset available online.\n",
    "I used a provided API.\n",
    "I scraped data from a webpage.\n",
    "Other (please explain).\n",
    "\n",
    "#### We want to know your communication style. \n",
    "\n",
    "Record a video of yourself giving a high-level proposal of your project to a **non-technical person**. The video should be no longer than 1 minute and should be at a **higher level than the previous explanation**.\n",
    "\n",
    "Record a video of yourself and upload it to YouTube (and not another video hosting service). **Be sure to make the video unlisted (but not private!)** so people without the link cannot find it on Google (go here, click \"Edit\" on your video, select unlisted from the privacy dropdown menu, and save your changes). You can use either your webcam or a smartphone.\n",
    "\n",
    "Once complete, please provide the embed URL of the video. To find this URL (NOT the entire iframe tag), on the video's normal watch page, you can click Share → Embed, and take the link from inside the 'src' attribute of the tag. It looks something like this: [https://www.youtube.com/embed/y9tX5whl2U]\n",
    "\n",
    "#### Please provide the EMBED URL to your video\n",
    "\n",
    "e.g. [https://www.youtube.com/embed/y9tX5whl2U]\n"
   ]
  },
  {
   "cell_type": "code",
   "execution_count": 72,
   "metadata": {
    "collapsed": true
   },
   "outputs": [],
   "source": [
    "import numpy as np\n",
    "import matplotlib.pyplot as plt\n",
    "import pandas as pd\n",
    "import seaborn as sns\n",
    "\n",
    "%matplotlib inline"
   ]
  },
  {
   "cell_type": "markdown",
   "metadata": {},
   "source": [
    "## What's the Problem?"
   ]
  },
  {
   "cell_type": "markdown",
   "metadata": {},
   "source": [
    "![Allergic boy!](./IMG_0951.JPG \"ShowMyImage\")\n"
   ]
  },
  {
   "cell_type": "markdown",
   "metadata": {},
   "source": [
    "# What's the data set(s)?"
   ]
  },
  {
   "cell_type": "markdown",
   "metadata": {},
   "source": [
    "Recipe data is available via an API by subscription, or possibly via a complementary Hakathon-style license, from the Yummly [https://www.yummly.com]. For this prototype, I am using an extract of Yummly data that has been provided to Kaggle [https://www.kaggle.com/c/whats-cooking] for one of their introductory competitions."
   ]
  },
  {
   "cell_type": "markdown",
   "metadata": {},
   "source": [
    "### Prototype data set"
   ]
  },
  {
   "cell_type": "markdown",
   "metadata": {},
   "source": [
    "This JSON-formatted dataset contains the recipe id, type of cuisine and list of ingredients for each recipe (which is a list of variable length)."
   ]
  },
  {
   "cell_type": "code",
   "execution_count": 47,
   "metadata": {
    "collapsed": true
   },
   "outputs": [],
   "source": [
    "data_source_URL = 'https://www.kaggle.com/c/whats-cooking/data'\n",
    "\n",
    "data_file = 'Kaggle_WhatsCooking_train.json'       # Named train.json on Kaggle site"
   ]
  },
  {
   "cell_type": "code",
   "execution_count": 48,
   "metadata": {},
   "outputs": [
    {
     "name": "stdout",
     "output_type": "stream",
     "text": [
      "Kaggle_WhatsCooking_train.json\r\n"
     ]
    }
   ],
   "source": [
    "!ls *.json"
   ]
  },
  {
   "cell_type": "code",
   "execution_count": 9,
   "metadata": {
    "collapsed": true
   },
   "outputs": [],
   "source": [
    "recipes = pd.read_json('Kaggle_WhatsCooking_train.json')"
   ]
  },
  {
   "cell_type": "code",
   "execution_count": 10,
   "metadata": {},
   "outputs": [
    {
     "name": "stdout",
     "output_type": "stream",
     "text": [
      "<class 'pandas.core.frame.DataFrame'>\n",
      "Int64Index: 39774 entries, 0 to 39773\n",
      "Data columns (total 3 columns):\n",
      "cuisine        39774 non-null object\n",
      "id             39774 non-null int64\n",
      "ingredients    39774 non-null object\n",
      "dtypes: int64(1), object(2)\n",
      "memory usage: 1.2+ MB\n"
     ]
    }
   ],
   "source": [
    "recipes.info()"
   ]
  },
  {
   "cell_type": "code",
   "execution_count": 12,
   "metadata": {},
   "outputs": [
    {
     "data": {
      "text/plain": [
       "italian         7838\n",
       "mexican         6438\n",
       "southern_us     4320\n",
       "indian          3003\n",
       "chinese         2673\n",
       "french          2646\n",
       "cajun_creole    1546\n",
       "thai            1539\n",
       "japanese        1423\n",
       "greek           1175\n",
       "spanish          989\n",
       "korean           830\n",
       "vietnamese       825\n",
       "moroccan         821\n",
       "british          804\n",
       "filipino         755\n",
       "irish            667\n",
       "jamaican         526\n",
       "russian          489\n",
       "brazilian        467\n",
       "Name: cuisine, dtype: int64"
      ]
     },
     "execution_count": 12,
     "metadata": {},
     "output_type": "execute_result"
    }
   ],
   "source": [
    "recipes.cuisine.value_counts()"
   ]
  },
  {
   "cell_type": "code",
   "execution_count": 14,
   "metadata": {},
   "outputs": [
    {
     "data": {
      "text/plain": [
       "20"
      ]
     },
     "execution_count": 14,
     "metadata": {},
     "output_type": "execute_result"
    }
   ],
   "source": [
    "recipes.cuisine.nunique()"
   ]
  },
  {
   "cell_type": "code",
   "execution_count": 21,
   "metadata": {},
   "outputs": [],
   "source": [
    "ingredients = recipes.ingredients.apply(pd.Series).stack().value_counts()"
   ]
  },
  {
   "cell_type": "code",
   "execution_count": 31,
   "metadata": {},
   "outputs": [
    {
     "data": {
      "text/plain": [
       "6714"
      ]
     },
     "execution_count": 31,
     "metadata": {},
     "output_type": "execute_result"
    }
   ],
   "source": [
    "len(ingredients)"
   ]
  },
  {
   "cell_type": "code",
   "execution_count": 36,
   "metadata": {},
   "outputs": [],
   "source": [
    "allergy_profile = ['butter', 'milk', 'peanuts', 'pecan', 'nuts', 'fish']\n",
    "\n",
    "vegan_profile = ['beef', 'chicken', 'pork', ...]\n",
    "\n",
    "muslim_profile = ['pork', 'halal', etc...]\n",
    "\n",
    "vegetarian = []\n",
    "\n",
    "paleo = []\n",
    "\n",
    "intolerant = []\n",
    "\n",
    "medical = []\n",
    "\n",
    "personal_pref = []\n",
    "\n",
    "\n",
    "# Check on text matching - is it partial of whole word (would think whole word)"
   ]
  },
  {
   "cell_type": "code",
   "execution_count": 37,
   "metadata": {},
   "outputs": [
    {
     "data": {
      "text/plain": [
       "butter     0.722073\n",
       "milk       0.337057\n",
       "peanuts    0.060471\n",
       "pecan           NaN\n",
       "nuts       0.005213\n",
       "fish       0.013554\n",
       "dtype: float64"
      ]
     },
     "execution_count": 37,
     "metadata": {},
     "output_type": "execute_result"
    }
   ],
   "source": [
    "ingredients[allergy_profile] / len(ingredients)"
   ]
  },
  {
   "cell_type": "code",
   "execution_count": 40,
   "metadata": {},
   "outputs": [
    {
     "data": {
      "text/html": [
       "<div>\n",
       "<style>\n",
       "    .dataframe thead tr:only-child th {\n",
       "        text-align: right;\n",
       "    }\n",
       "\n",
       "    .dataframe thead th {\n",
       "        text-align: left;\n",
       "    }\n",
       "\n",
       "    .dataframe tbody tr th {\n",
       "        vertical-align: top;\n",
       "    }\n",
       "</style>\n",
       "<table border=\"1\" class=\"dataframe\">\n",
       "  <thead>\n",
       "    <tr style=\"text-align: right;\">\n",
       "      <th></th>\n",
       "      <th>cuisine</th>\n",
       "      <th>id</th>\n",
       "      <th>ingredients</th>\n",
       "    </tr>\n",
       "  </thead>\n",
       "  <tbody>\n",
       "    <tr>\n",
       "      <th>0</th>\n",
       "      <td>greek</td>\n",
       "      <td>10259</td>\n",
       "      <td>[romaine lettuce, black olives, grape tomatoes...</td>\n",
       "    </tr>\n",
       "    <tr>\n",
       "      <th>1</th>\n",
       "      <td>southern_us</td>\n",
       "      <td>25693</td>\n",
       "      <td>[plain flour, ground pepper, salt, tomatoes, g...</td>\n",
       "    </tr>\n",
       "    <tr>\n",
       "      <th>2</th>\n",
       "      <td>filipino</td>\n",
       "      <td>20130</td>\n",
       "      <td>[eggs, pepper, salt, mayonaise, cooking oil, g...</td>\n",
       "    </tr>\n",
       "    <tr>\n",
       "      <th>3</th>\n",
       "      <td>indian</td>\n",
       "      <td>22213</td>\n",
       "      <td>[water, vegetable oil, wheat, salt]</td>\n",
       "    </tr>\n",
       "    <tr>\n",
       "      <th>4</th>\n",
       "      <td>indian</td>\n",
       "      <td>13162</td>\n",
       "      <td>[black pepper, shallots, cornflour, cayenne pe...</td>\n",
       "    </tr>\n",
       "  </tbody>\n",
       "</table>\n",
       "</div>"
      ],
      "text/plain": [
       "       cuisine     id                                        ingredients\n",
       "0        greek  10259  [romaine lettuce, black olives, grape tomatoes...\n",
       "1  southern_us  25693  [plain flour, ground pepper, salt, tomatoes, g...\n",
       "2     filipino  20130  [eggs, pepper, salt, mayonaise, cooking oil, g...\n",
       "3       indian  22213                [water, vegetable oil, wheat, salt]\n",
       "4       indian  13162  [black pepper, shallots, cornflour, cayenne pe..."
      ]
     },
     "execution_count": 40,
     "metadata": {},
     "output_type": "execute_result"
    }
   ],
   "source": [
    "recipes.head(5)"
   ]
  },
  {
   "cell_type": "code",
   "execution_count": null,
   "metadata": {
    "collapsed": true
   },
   "outputs": [],
   "source": [
    "# Find all recipes that DON'T contain allergens and then group by cuisine"
   ]
  },
  {
   "cell_type": "code",
   "execution_count": 60,
   "metadata": {},
   "outputs": [
    {
     "data": {
      "text/plain": [
       "['plain flour',\n",
       " 'ground pepper',\n",
       " 'salt',\n",
       " 'tomatoes',\n",
       " 'ground black pepper',\n",
       " 'thyme',\n",
       " 'eggs',\n",
       " 'green tomatoes',\n",
       " 'yellow corn meal',\n",
       " 'milk',\n",
       " 'vegetable oil']"
      ]
     },
     "execution_count": 60,
     "metadata": {},
     "output_type": "execute_result"
    }
   ],
   "source": [
    "recipes.ingredients[1]"
   ]
  },
  {
   "cell_type": "code",
   "execution_count": 132,
   "metadata": {},
   "outputs": [],
   "source": [
    "def allergens_in_ingredients(allergens, ingredients, n_allergens):\n",
    "    inter = set(allergens).intersection(set(ingredients))\n",
    "    if len(inter) > n_allergens:\n",
    "        return 1\n",
    "    else:\n",
    "        return 0"
   ]
  },
  {
   "cell_type": "code",
   "execution_count": 135,
   "metadata": {},
   "outputs": [
    {
     "data": {
      "text/plain": [
       "0"
      ]
     },
     "execution_count": 135,
     "metadata": {},
     "output_type": "execute_result"
    }
   ],
   "source": [
    "allergens_in_ingredients(allergy_profile, recipes.ingredients[1], 1)"
   ]
  },
  {
   "cell_type": "code",
   "execution_count": 122,
   "metadata": {},
   "outputs": [
    {
     "data": {
      "text/plain": [
       "['plain flour',\n",
       " 'ground pepper',\n",
       " 'salt',\n",
       " 'tomatoes',\n",
       " 'ground black pepper',\n",
       " 'thyme',\n",
       " 'eggs',\n",
       " 'green tomatoes',\n",
       " 'yellow corn meal',\n",
       " 'milk',\n",
       " 'vegetable oil']"
      ]
     },
     "execution_count": 122,
     "metadata": {},
     "output_type": "execute_result"
    }
   ],
   "source": [
    "recipes.ingredients[1]"
   ]
  },
  {
   "cell_type": "code",
   "execution_count": 144,
   "metadata": {},
   "outputs": [],
   "source": [
    "recipes['has_most1_allergen'] = recipes.ingredients.apply(lambda ingred: allergens_in_ingredients(allergy_profile, ingred, 1))"
   ]
  },
  {
   "cell_type": "code",
   "execution_count": 142,
   "metadata": {
    "collapsed": true
   },
   "outputs": [],
   "source": [
    "recipes['has_any_allergen'] = recipes.ingredients.apply(lambda ingred: allergens_in_ingredients(allergy_profile, ingred, 0))"
   ]
  },
  {
   "cell_type": "code",
   "execution_count": 145,
   "metadata": {},
   "outputs": [
    {
     "data": {
      "text/html": [
       "<div>\n",
       "<style>\n",
       "    .dataframe thead tr:only-child th {\n",
       "        text-align: right;\n",
       "    }\n",
       "\n",
       "    .dataframe thead th {\n",
       "        text-align: left;\n",
       "    }\n",
       "\n",
       "    .dataframe tbody tr th {\n",
       "        vertical-align: top;\n",
       "    }\n",
       "</style>\n",
       "<table border=\"1\" class=\"dataframe\">\n",
       "  <thead>\n",
       "    <tr style=\"text-align: right;\">\n",
       "      <th></th>\n",
       "      <th>cuisine</th>\n",
       "      <th>id</th>\n",
       "      <th>ingredients</th>\n",
       "      <th>has_any_allergen</th>\n",
       "      <th>n_ingredients</th>\n",
       "      <th>has_most1_allergen</th>\n",
       "    </tr>\n",
       "  </thead>\n",
       "  <tbody>\n",
       "    <tr>\n",
       "      <th>0</th>\n",
       "      <td>greek</td>\n",
       "      <td>10259</td>\n",
       "      <td>[romaine lettuce, black olives, grape tomatoes...</td>\n",
       "      <td>0</td>\n",
       "      <td>9</td>\n",
       "      <td>0</td>\n",
       "    </tr>\n",
       "    <tr>\n",
       "      <th>1</th>\n",
       "      <td>southern_us</td>\n",
       "      <td>25693</td>\n",
       "      <td>[plain flour, ground pepper, salt, tomatoes, g...</td>\n",
       "      <td>1</td>\n",
       "      <td>11</td>\n",
       "      <td>0</td>\n",
       "    </tr>\n",
       "    <tr>\n",
       "      <th>2</th>\n",
       "      <td>filipino</td>\n",
       "      <td>20130</td>\n",
       "      <td>[eggs, pepper, salt, mayonaise, cooking oil, g...</td>\n",
       "      <td>1</td>\n",
       "      <td>12</td>\n",
       "      <td>0</td>\n",
       "    </tr>\n",
       "    <tr>\n",
       "      <th>3</th>\n",
       "      <td>indian</td>\n",
       "      <td>22213</td>\n",
       "      <td>[water, vegetable oil, wheat, salt]</td>\n",
       "      <td>0</td>\n",
       "      <td>4</td>\n",
       "      <td>0</td>\n",
       "    </tr>\n",
       "    <tr>\n",
       "      <th>4</th>\n",
       "      <td>indian</td>\n",
       "      <td>13162</td>\n",
       "      <td>[black pepper, shallots, cornflour, cayenne pe...</td>\n",
       "      <td>1</td>\n",
       "      <td>20</td>\n",
       "      <td>1</td>\n",
       "    </tr>\n",
       "    <tr>\n",
       "      <th>5</th>\n",
       "      <td>jamaican</td>\n",
       "      <td>6602</td>\n",
       "      <td>[plain flour, sugar, butter, eggs, fresh ginge...</td>\n",
       "      <td>1</td>\n",
       "      <td>12</td>\n",
       "      <td>1</td>\n",
       "    </tr>\n",
       "    <tr>\n",
       "      <th>6</th>\n",
       "      <td>spanish</td>\n",
       "      <td>42779</td>\n",
       "      <td>[olive oil, salt, medium shrimp, pepper, garli...</td>\n",
       "      <td>0</td>\n",
       "      <td>13</td>\n",
       "      <td>0</td>\n",
       "    </tr>\n",
       "    <tr>\n",
       "      <th>7</th>\n",
       "      <td>italian</td>\n",
       "      <td>3735</td>\n",
       "      <td>[sugar, pistachio nuts, white almond bark, flo...</td>\n",
       "      <td>0</td>\n",
       "      <td>10</td>\n",
       "      <td>0</td>\n",
       "    </tr>\n",
       "    <tr>\n",
       "      <th>8</th>\n",
       "      <td>mexican</td>\n",
       "      <td>16903</td>\n",
       "      <td>[olive oil, purple onion, fresh pineapple, por...</td>\n",
       "      <td>0</td>\n",
       "      <td>13</td>\n",
       "      <td>0</td>\n",
       "    </tr>\n",
       "    <tr>\n",
       "      <th>9</th>\n",
       "      <td>italian</td>\n",
       "      <td>12734</td>\n",
       "      <td>[chopped tomatoes, fresh basil, garlic, extra-...</td>\n",
       "      <td>0</td>\n",
       "      <td>6</td>\n",
       "      <td>0</td>\n",
       "    </tr>\n",
       "  </tbody>\n",
       "</table>\n",
       "</div>"
      ],
      "text/plain": [
       "       cuisine     id                                        ingredients  \\\n",
       "0        greek  10259  [romaine lettuce, black olives, grape tomatoes...   \n",
       "1  southern_us  25693  [plain flour, ground pepper, salt, tomatoes, g...   \n",
       "2     filipino  20130  [eggs, pepper, salt, mayonaise, cooking oil, g...   \n",
       "3       indian  22213                [water, vegetable oil, wheat, salt]   \n",
       "4       indian  13162  [black pepper, shallots, cornflour, cayenne pe...   \n",
       "5     jamaican   6602  [plain flour, sugar, butter, eggs, fresh ginge...   \n",
       "6      spanish  42779  [olive oil, salt, medium shrimp, pepper, garli...   \n",
       "7      italian   3735  [sugar, pistachio nuts, white almond bark, flo...   \n",
       "8      mexican  16903  [olive oil, purple onion, fresh pineapple, por...   \n",
       "9      italian  12734  [chopped tomatoes, fresh basil, garlic, extra-...   \n",
       "\n",
       "   has_any_allergen  n_ingredients  has_most1_allergen  \n",
       "0                 0              9                   0  \n",
       "1                 1             11                   0  \n",
       "2                 1             12                   0  \n",
       "3                 0              4                   0  \n",
       "4                 1             20                   1  \n",
       "5                 1             12                   1  \n",
       "6                 0             13                   0  \n",
       "7                 0             10                   0  \n",
       "8                 0             13                   0  \n",
       "9                 0              6                   0  "
      ]
     },
     "execution_count": 145,
     "metadata": {},
     "output_type": "execute_result"
    }
   ],
   "source": [
    "recipes.head(10)"
   ]
  },
  {
   "cell_type": "code",
   "execution_count": 65,
   "metadata": {},
   "outputs": [],
   "source": [
    "tmp = recipes.groupby('cuisine')['has_any_allergen'].value_counts()"
   ]
  },
  {
   "cell_type": "code",
   "execution_count": 66,
   "metadata": {},
   "outputs": [
    {
     "data": {
      "text/plain": [
       "cuisine       has_any_allergen\n",
       "brazilian     0                    372\n",
       "              1                     95\n",
       "british       0                    456\n",
       "              1                    348\n",
       "cajun_creole  0                   1158\n",
       "              1                    388\n",
       "chinese       0                   2512\n",
       "              1                    161\n",
       "filipino      0                    673\n",
       "              1                     82\n",
       "french        0                   2003\n",
       "              1                    643\n",
       "greek         0                   1059\n",
       "              1                    116\n",
       "indian        0                   2555\n",
       "              1                    448\n",
       "irish         0                    397\n",
       "              1                    270\n",
       "italian       0                   6618\n",
       "              1                   1220\n",
       "jamaican      0                    442\n",
       "              1                     84\n",
       "japanese      0                   1301\n",
       "              1                    122\n",
       "korean        0                    808\n",
       "              1                     22\n",
       "mexican       0                   5868\n",
       "              1                    570\n",
       "moroccan      0                    754\n",
       "              1                     67\n",
       "russian       0                    345\n",
       "              1                    144\n",
       "southern_us   0                   2689\n",
       "              1                   1631\n",
       "spanish       0                    902\n",
       "              1                     87\n",
       "thai          0                   1343\n",
       "              1                    196\n",
       "vietnamese    0                    758\n",
       "              1                     67\n",
       "Name: has_any_allergen, dtype: int64"
      ]
     },
     "execution_count": 66,
     "metadata": {},
     "output_type": "execute_result"
    }
   ],
   "source": [
    "tmp"
   ]
  },
  {
   "cell_type": "code",
   "execution_count": 104,
   "metadata": {},
   "outputs": [
    {
     "data": {
      "text/plain": [
       "<matplotlib.axes._subplots.AxesSubplot at 0x11cda3080>"
      ]
     },
     "execution_count": 104,
     "metadata": {},
     "output_type": "execute_result"
    },
    {
     "data": {
      "image/png": "[encoded data removed]",
      "text/plain": [
       "<matplotlib.figure.Figure at 0x11c72b5f8>"
      ]
     },
     "metadata": {},
     "output_type": "display_data"
    }
   ],
   "source": [
    "factor = 1.4\n",
    "a4_dims = (11.7*factor, 8.27*factor)\n",
    "fig, ax = plt.subplots(figsize=a4_dims)\n",
    "sns.countplot(x='cuisine', hue='has_any_allergen', data=recipes)"
   ]
  },
  {
   "cell_type": "code",
   "execution_count": 84,
   "metadata": {},
   "outputs": [],
   "source": []
  },
  {
   "cell_type": "code",
   "execution_count": 146,
   "metadata": {
    "collapsed": true
   },
   "outputs": [],
   "source": [
    "tmp1 = recipes.groupby('cuisine')['has_most1_allergen'].value_counts()"
   ]
  },
  {
   "cell_type": "code",
   "execution_count": 148,
   "metadata": {},
   "outputs": [
    {
     "data": {
      "text/plain": [
       "<matplotlib.axes._subplots.AxesSubplot at 0x11ec21c50>"
      ]
     },
     "execution_count": 148,
     "metadata": {},
     "output_type": "execute_result"
    },
    {
     "data": {
      "image/png": "[encoded data removed]",
      "text/plain": [
       "<matplotlib.figure.Figure at 0x11cc0f7b8>"
      ]
     },
     "metadata": {},
     "output_type": "display_data"
    }
   ],
   "source": [
    "factor = 1.4\n",
    "a4_dims = (11.7*factor, 8.27*factor)\n",
    "fig, ax = plt.subplots(figsize=a4_dims)\n",
    "sns.countplot(x='cuisine', hue='has_most1_allergen', data=recipes)"
   ]
  },
  {
   "cell_type": "markdown",
   "metadata": {},
   "source": [
    "#### So by relaxing on 1 allergen ingredient only in a recipe it allows [in this example] for many more recipes to be 'back on the table'."
   ]
  },
  {
   "cell_type": "code",
   "execution_count": 147,
   "metadata": {
    "collapsed": true
   },
   "outputs": [],
   "source": [
    "recipes['n_ingredients'] = recipes.ingredients.apply(lambda ingred : len(ingred))"
   ]
  },
  {
   "cell_type": "code",
   "execution_count": 85,
   "metadata": {},
   "outputs": [
    {
     "data": {
      "text/html": [
       "<div>\n",
       "<style>\n",
       "    .dataframe thead tr:only-child th {\n",
       "        text-align: right;\n",
       "    }\n",
       "\n",
       "    .dataframe thead th {\n",
       "        text-align: left;\n",
       "    }\n",
       "\n",
       "    .dataframe tbody tr th {\n",
       "        vertical-align: top;\n",
       "    }\n",
       "</style>\n",
       "<table border=\"1\" class=\"dataframe\">\n",
       "  <thead>\n",
       "    <tr style=\"text-align: right;\">\n",
       "      <th></th>\n",
       "      <th>cuisine</th>\n",
       "      <th>id</th>\n",
       "      <th>ingredients</th>\n",
       "      <th>has_any_allergen</th>\n",
       "      <th>n_ingredients</th>\n",
       "    </tr>\n",
       "  </thead>\n",
       "  <tbody>\n",
       "    <tr>\n",
       "      <th>0</th>\n",
       "      <td>greek</td>\n",
       "      <td>10259</td>\n",
       "      <td>[romaine lettuce, black olives, grape tomatoes...</td>\n",
       "      <td>0</td>\n",
       "      <td>9</td>\n",
       "    </tr>\n",
       "    <tr>\n",
       "      <th>1</th>\n",
       "      <td>southern_us</td>\n",
       "      <td>25693</td>\n",
       "      <td>[plain flour, ground pepper, salt, tomatoes, g...</td>\n",
       "      <td>1</td>\n",
       "      <td>11</td>\n",
       "    </tr>\n",
       "    <tr>\n",
       "      <th>2</th>\n",
       "      <td>filipino</td>\n",
       "      <td>20130</td>\n",
       "      <td>[eggs, pepper, salt, mayonaise, cooking oil, g...</td>\n",
       "      <td>1</td>\n",
       "      <td>12</td>\n",
       "    </tr>\n",
       "    <tr>\n",
       "      <th>3</th>\n",
       "      <td>indian</td>\n",
       "      <td>22213</td>\n",
       "      <td>[water, vegetable oil, wheat, salt]</td>\n",
       "      <td>0</td>\n",
       "      <td>4</td>\n",
       "    </tr>\n",
       "    <tr>\n",
       "      <th>4</th>\n",
       "      <td>indian</td>\n",
       "      <td>13162</td>\n",
       "      <td>[black pepper, shallots, cornflour, cayenne pe...</td>\n",
       "      <td>1</td>\n",
       "      <td>20</td>\n",
       "    </tr>\n",
       "  </tbody>\n",
       "</table>\n",
       "</div>"
      ],
      "text/plain": [
       "       cuisine     id                                        ingredients  \\\n",
       "0        greek  10259  [romaine lettuce, black olives, grape tomatoes...   \n",
       "1  southern_us  25693  [plain flour, ground pepper, salt, tomatoes, g...   \n",
       "2     filipino  20130  [eggs, pepper, salt, mayonaise, cooking oil, g...   \n",
       "3       indian  22213                [water, vegetable oil, wheat, salt]   \n",
       "4       indian  13162  [black pepper, shallots, cornflour, cayenne pe...   \n",
       "\n",
       "   has_any_allergen  n_ingredients  \n",
       "0                 0              9  \n",
       "1                 1             11  \n",
       "2                 1             12  \n",
       "3                 0              4  \n",
       "4                 1             20  "
      ]
     },
     "execution_count": 85,
     "metadata": {},
     "output_type": "execute_result"
    }
   ],
   "source": [
    "recipes.head(5)"
   ]
  },
  {
   "cell_type": "code",
   "execution_count": 155,
   "metadata": {},
   "outputs": [
    {
     "data": {
      "text/plain": [
       "(0, 30)"
      ]
     },
     "execution_count": 155,
     "metadata": {},
     "output_type": "execute_result"
    },
    {
     "data": {
      "image/png": "[encoded data removed]",
      "text/plain": [
       "<matplotlib.figure.Figure at 0x11e563c88>"
      ]
     },
     "metadata": {},
     "output_type": "display_data"
    }
   ],
   "source": [
    "factor = 1.4\n",
    "a4_dims = (11.7*factor, 8.27*factor)\n",
    "fig, ax = plt.subplots(figsize=a4_dims)\n",
    "sns.distplot(recipes.n_ingredients)\n",
    "ax.set_xlim(0,30)"
   ]
  },
  {
   "cell_type": "code",
   "execution_count": 153,
   "metadata": {},
   "outputs": [
    {
     "data": {
      "text/plain": [
       "False    39734\n",
       "True        40\n",
       "Name: n_ingredients, dtype: int64"
      ]
     },
     "execution_count": 153,
     "metadata": {},
     "output_type": "execute_result"
    }
   ],
   "source": [
    "(recipes.n_ingredients > 30).value_counts()"
   ]
  },
  {
   "cell_type": "code",
   "execution_count": 154,
   "metadata": {},
   "outputs": [
    {
     "data": {
      "text/plain": [
       "65"
      ]
     },
     "execution_count": 154,
     "metadata": {},
     "output_type": "execute_result"
    }
   ],
   "source": [
    "recipes.n_ingredients.max()"
   ]
  },
  {
   "cell_type": "code",
   "execution_count": null,
   "metadata": {
    "collapsed": true
   },
   "outputs": [],
   "source": []
  },
  {
   "cell_type": "markdown",
   "metadata": {},
   "source": [
    "#### Comment: very long right tail for number of ingredients?! Looks like problem with a few recipes"
   ]
  },
  {
   "cell_type": "code",
   "execution_count": 86,
   "metadata": {},
   "outputs": [
    {
     "data": {
      "text/plain": [
       "10.76771257605471"
      ]
     },
     "execution_count": 86,
     "metadata": {},
     "output_type": "execute_result"
    }
   ],
   "source": [
    "recipes.n_ingredients.mean()"
   ]
  },
  {
   "cell_type": "code",
   "execution_count": 151,
   "metadata": {},
   "outputs": [
    {
     "data": {
      "text/plain": [
       "10.0"
      ]
     },
     "execution_count": 151,
     "metadata": {},
     "output_type": "execute_result"
    }
   ],
   "source": [
    "recipes.n_ingredients.median()"
   ]
  },
  {
   "cell_type": "code",
   "execution_count": 87,
   "metadata": {},
   "outputs": [
    {
     "data": {
      "text/plain": [
       "4.428977570208113"
      ]
     },
     "execution_count": 87,
     "metadata": {},
     "output_type": "execute_result"
    }
   ],
   "source": [
    "recipes.n_ingredients.std()"
   ]
  },
  {
   "cell_type": "code",
   "execution_count": 94,
   "metadata": {},
   "outputs": [
    {
     "data": {
      "text/html": [
       "<div>\n",
       "<style>\n",
       "    .dataframe thead tr:only-child th {\n",
       "        text-align: right;\n",
       "    }\n",
       "\n",
       "    .dataframe thead th {\n",
       "        text-align: left;\n",
       "    }\n",
       "\n",
       "    .dataframe tbody tr th {\n",
       "        vertical-align: top;\n",
       "    }\n",
       "</style>\n",
       "<table border=\"1\" class=\"dataframe\">\n",
       "  <thead>\n",
       "    <tr style=\"text-align: right;\">\n",
       "      <th></th>\n",
       "      <th>cuisine</th>\n",
       "      <th>id</th>\n",
       "      <th>ingredients</th>\n",
       "      <th>has_any_allergen</th>\n",
       "      <th>n_ingredients</th>\n",
       "    </tr>\n",
       "  </thead>\n",
       "  <tbody>\n",
       "    <tr>\n",
       "      <th>15289</th>\n",
       "      <td>italian</td>\n",
       "      <td>3885</td>\n",
       "      <td>[fettucine, fresh marjoram, minced garlic, oli...</td>\n",
       "      <td>1</td>\n",
       "      <td>65</td>\n",
       "    </tr>\n",
       "    <tr>\n",
       "      <th>26103</th>\n",
       "      <td>mexican</td>\n",
       "      <td>13049</td>\n",
       "      <td>[vanilla ice cream, lime, garlic powder, zucch...</td>\n",
       "      <td>1</td>\n",
       "      <td>52</td>\n",
       "    </tr>\n",
       "    <tr>\n",
       "      <th>30350</th>\n",
       "      <td>brazilian</td>\n",
       "      <td>13430</td>\n",
       "      <td>[marshmallows, fresh corn, cheddar cheese, shr...</td>\n",
       "      <td>1</td>\n",
       "      <td>59</td>\n",
       "    </tr>\n",
       "  </tbody>\n",
       "</table>\n",
       "</div>"
      ],
      "text/plain": [
       "         cuisine     id                                        ingredients  \\\n",
       "15289    italian   3885  [fettucine, fresh marjoram, minced garlic, oli...   \n",
       "26103    mexican  13049  [vanilla ice cream, lime, garlic powder, zucch...   \n",
       "30350  brazilian  13430  [marshmallows, fresh corn, cheddar cheese, shr...   \n",
       "\n",
       "       has_any_allergen  n_ingredients  \n",
       "15289                 1             65  \n",
       "26103                 1             52  \n",
       "30350                 1             59  "
      ]
     },
     "execution_count": 94,
     "metadata": {},
     "output_type": "execute_result"
    }
   ],
   "source": [
    "recipes[recipes.n_ingredients > 50]"
   ]
  },
  {
   "cell_type": "code",
   "execution_count": 100,
   "metadata": {},
   "outputs": [
    {
     "name": "stdout",
     "output_type": "stream",
     "text": [
      "['marshmallows', 'fresh corn', 'cheddar cheese', 'shredded coconut', 'water', 'honey', 'baking soda', 'dijon mustard', 'sweet potatoes', 'chicken breasts', 'vegetable oil', 'salt', 'condensed milk', 'candy', 'canola oil', 'eggs', 'brown sugar', 'glutinous rice', 'white onion', 'dashi', 'whole wheat flour', 'oat flour', 'flour', 'boneless skinless chicken breasts', 'fresh thyme leaves', 'sprinkles', 'grated lemon zest', 'ham', 'white sugar', 'avocado', 'chili flakes', 'coconut oil', 'skim milk', 'pepper', 'kale', 'parmesan cheese', 'unsalted butter', 'tapioca starch', 'baking powder', 'parsley', 'vanilla extract', 'cream cheese', 'coconut milk', 'chocolate chips', 'low sodium soy sauce', 'powdered sugar', 'sugar', 'muffin', 'milk', 'olive oil', 'bananas', 'large eggs', 'green onions', 'swiss cheese', 'butter', 'all-purpose flour', 'dark brown sugar', 'panko breadcrumbs', 'low-fat milk']\n"
     ]
    }
   ],
   "source": [
    "for ingredient in recipes[recipes.id == 13430].ingredients:\n",
    "    print(ingredient)"
   ]
  },
  {
   "cell_type": "markdown",
   "metadata": {},
   "source": [
    "#### Is this really a recipe? 59 ingredients? Maybe some issue in collating the data?"
   ]
  },
  {
   "cell_type": "code",
   "execution_count": 157,
   "metadata": {},
   "outputs": [
    {
     "data": {
      "text/html": [
       "<div>\n",
       "<style>\n",
       "    .dataframe thead tr:only-child th {\n",
       "        text-align: right;\n",
       "    }\n",
       "\n",
       "    .dataframe thead th {\n",
       "        text-align: left;\n",
       "    }\n",
       "\n",
       "    .dataframe tbody tr th {\n",
       "        vertical-align: top;\n",
       "    }\n",
       "</style>\n",
       "<table border=\"1\" class=\"dataframe\">\n",
       "  <thead>\n",
       "    <tr style=\"text-align: right;\">\n",
       "      <th></th>\n",
       "      <th>cuisine</th>\n",
       "      <th>id</th>\n",
       "      <th>ingredients</th>\n",
       "      <th>has_any_allergen</th>\n",
       "      <th>n_ingredients</th>\n",
       "      <th>has_most1_allergen</th>\n",
       "    </tr>\n",
       "  </thead>\n",
       "  <tbody>\n",
       "    <tr>\n",
       "      <th>0</th>\n",
       "      <td>greek</td>\n",
       "      <td>10259</td>\n",
       "      <td>[romaine lettuce, black olives, grape tomatoes...</td>\n",
       "      <td>0</td>\n",
       "      <td>9</td>\n",
       "      <td>0</td>\n",
       "    </tr>\n",
       "    <tr>\n",
       "      <th>1</th>\n",
       "      <td>southern_us</td>\n",
       "      <td>25693</td>\n",
       "      <td>[plain flour, ground pepper, salt, tomatoes, g...</td>\n",
       "      <td>1</td>\n",
       "      <td>11</td>\n",
       "      <td>0</td>\n",
       "    </tr>\n",
       "    <tr>\n",
       "      <th>2</th>\n",
       "      <td>filipino</td>\n",
       "      <td>20130</td>\n",
       "      <td>[eggs, pepper, salt, mayonaise, cooking oil, g...</td>\n",
       "      <td>1</td>\n",
       "      <td>12</td>\n",
       "      <td>0</td>\n",
       "    </tr>\n",
       "    <tr>\n",
       "      <th>3</th>\n",
       "      <td>indian</td>\n",
       "      <td>22213</td>\n",
       "      <td>[water, vegetable oil, wheat, salt]</td>\n",
       "      <td>0</td>\n",
       "      <td>4</td>\n",
       "      <td>0</td>\n",
       "    </tr>\n",
       "    <tr>\n",
       "      <th>4</th>\n",
       "      <td>indian</td>\n",
       "      <td>13162</td>\n",
       "      <td>[black pepper, shallots, cornflour, cayenne pe...</td>\n",
       "      <td>1</td>\n",
       "      <td>20</td>\n",
       "      <td>1</td>\n",
       "    </tr>\n",
       "    <tr>\n",
       "      <th>6</th>\n",
       "      <td>spanish</td>\n",
       "      <td>42779</td>\n",
       "      <td>[olive oil, salt, medium shrimp, pepper, garli...</td>\n",
       "      <td>0</td>\n",
       "      <td>13</td>\n",
       "      <td>0</td>\n",
       "    </tr>\n",
       "    <tr>\n",
       "      <th>7</th>\n",
       "      <td>italian</td>\n",
       "      <td>3735</td>\n",
       "      <td>[sugar, pistachio nuts, white almond bark, flo...</td>\n",
       "      <td>0</td>\n",
       "      <td>10</td>\n",
       "      <td>0</td>\n",
       "    </tr>\n",
       "    <tr>\n",
       "      <th>9</th>\n",
       "      <td>italian</td>\n",
       "      <td>12734</td>\n",
       "      <td>[chopped tomatoes, fresh basil, garlic, extra-...</td>\n",
       "      <td>0</td>\n",
       "      <td>6</td>\n",
       "      <td>0</td>\n",
       "    </tr>\n",
       "    <tr>\n",
       "      <th>11</th>\n",
       "      <td>chinese</td>\n",
       "      <td>45887</td>\n",
       "      <td>[low sodium soy sauce, fresh ginger, dry musta...</td>\n",
       "      <td>0</td>\n",
       "      <td>15</td>\n",
       "      <td>0</td>\n",
       "    </tr>\n",
       "    <tr>\n",
       "      <th>13</th>\n",
       "      <td>mexican</td>\n",
       "      <td>41995</td>\n",
       "      <td>[ground cinnamon, fresh cilantro, chili powder...</td>\n",
       "      <td>0</td>\n",
       "      <td>17</td>\n",
       "      <td>0</td>\n",
       "    </tr>\n",
       "    <tr>\n",
       "      <th>28</th>\n",
       "      <td>chinese</td>\n",
       "      <td>9197</td>\n",
       "      <td>[green bell pepper, egg roll wrappers, sweet a...</td>\n",
       "      <td>0</td>\n",
       "      <td>14</td>\n",
       "      <td>0</td>\n",
       "    </tr>\n",
       "    <tr>\n",
       "      <th>30</th>\n",
       "      <td>italian</td>\n",
       "      <td>40429</td>\n",
       "      <td>[yellow corn meal, boiling water, butter, fres...</td>\n",
       "      <td>1</td>\n",
       "      <td>5</td>\n",
       "      <td>0</td>\n",
       "    </tr>\n",
       "    <tr>\n",
       "      <th>31</th>\n",
       "      <td>cajun_creole</td>\n",
       "      <td>34419</td>\n",
       "      <td>[chicken broth, chicken breasts, hot sauce, re...</td>\n",
       "      <td>0</td>\n",
       "      <td>16</td>\n",
       "      <td>0</td>\n",
       "    </tr>\n",
       "    <tr>\n",
       "      <th>34</th>\n",
       "      <td>italian</td>\n",
       "      <td>39250</td>\n",
       "      <td>[olive oil, onions, crushed garlic, dried oreg...</td>\n",
       "      <td>0</td>\n",
       "      <td>8</td>\n",
       "      <td>0</td>\n",
       "    </tr>\n",
       "    <tr>\n",
       "      <th>48</th>\n",
       "      <td>southern_us</td>\n",
       "      <td>4499</td>\n",
       "      <td>[butter, crab boil, garlic, old bay seasoning,...</td>\n",
       "      <td>1</td>\n",
       "      <td>7</td>\n",
       "      <td>0</td>\n",
       "    </tr>\n",
       "    <tr>\n",
       "      <th>55</th>\n",
       "      <td>jamaican</td>\n",
       "      <td>3535</td>\n",
       "      <td>[bread crumbs, unsalted butter, onion powder, ...</td>\n",
       "      <td>0</td>\n",
       "      <td>22</td>\n",
       "      <td>0</td>\n",
       "    </tr>\n",
       "    <tr>\n",
       "      <th>77</th>\n",
       "      <td>vietnamese</td>\n",
       "      <td>4715</td>\n",
       "      <td>[sweetened condensed milk, ice, espresso]</td>\n",
       "      <td>0</td>\n",
       "      <td>3</td>\n",
       "      <td>0</td>\n",
       "    </tr>\n",
       "    <tr>\n",
       "      <th>88</th>\n",
       "      <td>korean</td>\n",
       "      <td>17004</td>\n",
       "      <td>[water, barley]</td>\n",
       "      <td>0</td>\n",
       "      <td>2</td>\n",
       "      <td>0</td>\n",
       "    </tr>\n",
       "    <tr>\n",
       "      <th>142</th>\n",
       "      <td>mexican</td>\n",
       "      <td>21872</td>\n",
       "      <td>[kosher salt, radishes, garlic cloves, dried o...</td>\n",
       "      <td>0</td>\n",
       "      <td>18</td>\n",
       "      <td>0</td>\n",
       "    </tr>\n",
       "    <tr>\n",
       "      <th>251</th>\n",
       "      <td>indian</td>\n",
       "      <td>6862</td>\n",
       "      <td>[tomatoes, red chile powder, boneless chicken ...</td>\n",
       "      <td>1</td>\n",
       "      <td>24</td>\n",
       "      <td>0</td>\n",
       "    </tr>\n",
       "    <tr>\n",
       "      <th>294</th>\n",
       "      <td>filipino</td>\n",
       "      <td>9829</td>\n",
       "      <td>[sugar, fresh cilantro, hoisin sauce, butter, ...</td>\n",
       "      <td>1</td>\n",
       "      <td>38</td>\n",
       "      <td>0</td>\n",
       "    </tr>\n",
       "    <tr>\n",
       "      <th>342</th>\n",
       "      <td>chinese</td>\n",
       "      <td>20039</td>\n",
       "      <td>[chicken broth, white wine, zucchini, salted r...</td>\n",
       "      <td>0</td>\n",
       "      <td>21</td>\n",
       "      <td>0</td>\n",
       "    </tr>\n",
       "    <tr>\n",
       "      <th>345</th>\n",
       "      <td>thai</td>\n",
       "      <td>45039</td>\n",
       "      <td>[fish sauce, hot red pepper flakes, cider vine...</td>\n",
       "      <td>0</td>\n",
       "      <td>40</td>\n",
       "      <td>0</td>\n",
       "    </tr>\n",
       "    <tr>\n",
       "      <th>408</th>\n",
       "      <td>british</td>\n",
       "      <td>34240</td>\n",
       "      <td>[tomatoes, white wine, whole milk, ice water, ...</td>\n",
       "      <td>1</td>\n",
       "      <td>23</td>\n",
       "      <td>0</td>\n",
       "    </tr>\n",
       "    <tr>\n",
       "      <th>411</th>\n",
       "      <td>mexican</td>\n",
       "      <td>17120</td>\n",
       "      <td>[black beans, olive oil, chili powder, tortill...</td>\n",
       "      <td>0</td>\n",
       "      <td>19</td>\n",
       "      <td>0</td>\n",
       "    </tr>\n",
       "    <tr>\n",
       "      <th>781</th>\n",
       "      <td>cajun_creole</td>\n",
       "      <td>7579</td>\n",
       "      <td>[green bell pepper, corn, flour, purple onion,...</td>\n",
       "      <td>0</td>\n",
       "      <td>25</td>\n",
       "      <td>0</td>\n",
       "    </tr>\n",
       "    <tr>\n",
       "      <th>783</th>\n",
       "      <td>mexican</td>\n",
       "      <td>11058</td>\n",
       "      <td>[tomatoes, black pepper, tortillas, Mexican or...</td>\n",
       "      <td>0</td>\n",
       "      <td>26</td>\n",
       "      <td>0</td>\n",
       "    </tr>\n",
       "    <tr>\n",
       "      <th>795</th>\n",
       "      <td>greek</td>\n",
       "      <td>20364</td>\n",
       "      <td>[eggs, pepper, coarse salt, purple onion, feta...</td>\n",
       "      <td>0</td>\n",
       "      <td>27</td>\n",
       "      <td>0</td>\n",
       "    </tr>\n",
       "    <tr>\n",
       "      <th>940</th>\n",
       "      <td>japanese</td>\n",
       "      <td>4734</td>\n",
       "      <td>[sushi rice]</td>\n",
       "      <td>0</td>\n",
       "      <td>1</td>\n",
       "      <td>0</td>\n",
       "    </tr>\n",
       "    <tr>\n",
       "      <th>1392</th>\n",
       "      <td>japanese</td>\n",
       "      <td>2069</td>\n",
       "      <td>[tomatoes, sugar, whole wheat flour, bay leave...</td>\n",
       "      <td>0</td>\n",
       "      <td>34</td>\n",
       "      <td>0</td>\n",
       "    </tr>\n",
       "    <tr>\n",
       "      <th>1808</th>\n",
       "      <td>cajun_creole</td>\n",
       "      <td>17880</td>\n",
       "      <td>[chicken schmaltz, ground black pepper, bay le...</td>\n",
       "      <td>0</td>\n",
       "      <td>28</td>\n",
       "      <td>0</td>\n",
       "    </tr>\n",
       "    <tr>\n",
       "      <th>2922</th>\n",
       "      <td>jamaican</td>\n",
       "      <td>33671</td>\n",
       "      <td>[ground cloves, bell pepper, chile pepper, gin...</td>\n",
       "      <td>0</td>\n",
       "      <td>30</td>\n",
       "      <td>0</td>\n",
       "    </tr>\n",
       "    <tr>\n",
       "      <th>3200</th>\n",
       "      <td>japanese</td>\n",
       "      <td>34138</td>\n",
       "      <td>[soy sauce, white miso, chili paste, ramen noo...</td>\n",
       "      <td>0</td>\n",
       "      <td>29</td>\n",
       "      <td>0</td>\n",
       "    </tr>\n",
       "    <tr>\n",
       "      <th>4123</th>\n",
       "      <td>chinese</td>\n",
       "      <td>40469</td>\n",
       "      <td>[eggs, pork, pepper, egg noodles, napa cabbage...</td>\n",
       "      <td>1</td>\n",
       "      <td>32</td>\n",
       "      <td>0</td>\n",
       "    </tr>\n",
       "    <tr>\n",
       "      <th>6139</th>\n",
       "      <td>mexican</td>\n",
       "      <td>36645</td>\n",
       "      <td>[rub, pepper, olive oil, chipotle, chili powde...</td>\n",
       "      <td>0</td>\n",
       "      <td>36</td>\n",
       "      <td>0</td>\n",
       "    </tr>\n",
       "    <tr>\n",
       "      <th>10513</th>\n",
       "      <td>mexican</td>\n",
       "      <td>49282</td>\n",
       "      <td>[condensed cream of chicken soup, pepper, refr...</td>\n",
       "      <td>1</td>\n",
       "      <td>49</td>\n",
       "      <td>1</td>\n",
       "    </tr>\n",
       "    <tr>\n",
       "      <th>10893</th>\n",
       "      <td>cajun_creole</td>\n",
       "      <td>33586</td>\n",
       "      <td>[celery salt, andouille sausage, schmaltz, oni...</td>\n",
       "      <td>0</td>\n",
       "      <td>31</td>\n",
       "      <td>0</td>\n",
       "    </tr>\n",
       "    <tr>\n",
       "      <th>13940</th>\n",
       "      <td>jamaican</td>\n",
       "      <td>37435</td>\n",
       "      <td>[veggie patties, bread crumbs, vegetables, flo...</td>\n",
       "      <td>0</td>\n",
       "      <td>35</td>\n",
       "      <td>0</td>\n",
       "    </tr>\n",
       "    <tr>\n",
       "      <th>15289</th>\n",
       "      <td>italian</td>\n",
       "      <td>3885</td>\n",
       "      <td>[fettucine, fresh marjoram, minced garlic, oli...</td>\n",
       "      <td>1</td>\n",
       "      <td>65</td>\n",
       "      <td>1</td>\n",
       "    </tr>\n",
       "    <tr>\n",
       "      <th>19749</th>\n",
       "      <td>mexican</td>\n",
       "      <td>2660</td>\n",
       "      <td>[avocado, black beans, fresh cilantro, Mexican...</td>\n",
       "      <td>0</td>\n",
       "      <td>33</td>\n",
       "      <td>0</td>\n",
       "    </tr>\n",
       "    <tr>\n",
       "      <th>26103</th>\n",
       "      <td>mexican</td>\n",
       "      <td>13049</td>\n",
       "      <td>[vanilla ice cream, lime, garlic powder, zucch...</td>\n",
       "      <td>1</td>\n",
       "      <td>52</td>\n",
       "      <td>0</td>\n",
       "    </tr>\n",
       "    <tr>\n",
       "      <th>30350</th>\n",
       "      <td>brazilian</td>\n",
       "      <td>13430</td>\n",
       "      <td>[marshmallows, fresh corn, cheddar cheese, shr...</td>\n",
       "      <td>1</td>\n",
       "      <td>59</td>\n",
       "      <td>1</td>\n",
       "    </tr>\n",
       "    <tr>\n",
       "      <th>31250</th>\n",
       "      <td>italian</td>\n",
       "      <td>29216</td>\n",
       "      <td>[eggs, warm water, pepper, dried basil, unsalt...</td>\n",
       "      <td>1</td>\n",
       "      <td>43</td>\n",
       "      <td>1</td>\n",
       "    </tr>\n",
       "  </tbody>\n",
       "</table>\n",
       "</div>"
      ],
      "text/plain": [
       "            cuisine     id                                        ingredients  \\\n",
       "0             greek  10259  [romaine lettuce, black olives, grape tomatoes...   \n",
       "1       southern_us  25693  [plain flour, ground pepper, salt, tomatoes, g...   \n",
       "2          filipino  20130  [eggs, pepper, salt, mayonaise, cooking oil, g...   \n",
       "3            indian  22213                [water, vegetable oil, wheat, salt]   \n",
       "4            indian  13162  [black pepper, shallots, cornflour, cayenne pe...   \n",
       "6           spanish  42779  [olive oil, salt, medium shrimp, pepper, garli...   \n",
       "7           italian   3735  [sugar, pistachio nuts, white almond bark, flo...   \n",
       "9           italian  12734  [chopped tomatoes, fresh basil, garlic, extra-...   \n",
       "11          chinese  45887  [low sodium soy sauce, fresh ginger, dry musta...   \n",
       "13          mexican  41995  [ground cinnamon, fresh cilantro, chili powder...   \n",
       "28          chinese   9197  [green bell pepper, egg roll wrappers, sweet a...   \n",
       "30          italian  40429  [yellow corn meal, boiling water, butter, fres...   \n",
       "31     cajun_creole  34419  [chicken broth, chicken breasts, hot sauce, re...   \n",
       "34          italian  39250  [olive oil, onions, crushed garlic, dried oreg...   \n",
       "48      southern_us   4499  [butter, crab boil, garlic, old bay seasoning,...   \n",
       "55         jamaican   3535  [bread crumbs, unsalted butter, onion powder, ...   \n",
       "77       vietnamese   4715          [sweetened condensed milk, ice, espresso]   \n",
       "88           korean  17004                                    [water, barley]   \n",
       "142         mexican  21872  [kosher salt, radishes, garlic cloves, dried o...   \n",
       "251          indian   6862  [tomatoes, red chile powder, boneless chicken ...   \n",
       "294        filipino   9829  [sugar, fresh cilantro, hoisin sauce, butter, ...   \n",
       "342         chinese  20039  [chicken broth, white wine, zucchini, salted r...   \n",
       "345            thai  45039  [fish sauce, hot red pepper flakes, cider vine...   \n",
       "408         british  34240  [tomatoes, white wine, whole milk, ice water, ...   \n",
       "411         mexican  17120  [black beans, olive oil, chili powder, tortill...   \n",
       "781    cajun_creole   7579  [green bell pepper, corn, flour, purple onion,...   \n",
       "783         mexican  11058  [tomatoes, black pepper, tortillas, Mexican or...   \n",
       "795           greek  20364  [eggs, pepper, coarse salt, purple onion, feta...   \n",
       "940        japanese   4734                                       [sushi rice]   \n",
       "1392       japanese   2069  [tomatoes, sugar, whole wheat flour, bay leave...   \n",
       "1808   cajun_creole  17880  [chicken schmaltz, ground black pepper, bay le...   \n",
       "2922       jamaican  33671  [ground cloves, bell pepper, chile pepper, gin...   \n",
       "3200       japanese  34138  [soy sauce, white miso, chili paste, ramen noo...   \n",
       "4123        chinese  40469  [eggs, pork, pepper, egg noodles, napa cabbage...   \n",
       "6139        mexican  36645  [rub, pepper, olive oil, chipotle, chili powde...   \n",
       "10513       mexican  49282  [condensed cream of chicken soup, pepper, refr...   \n",
       "10893  cajun_creole  33586  [celery salt, andouille sausage, schmaltz, oni...   \n",
       "13940      jamaican  37435  [veggie patties, bread crumbs, vegetables, flo...   \n",
       "15289       italian   3885  [fettucine, fresh marjoram, minced garlic, oli...   \n",
       "19749       mexican   2660  [avocado, black beans, fresh cilantro, Mexican...   \n",
       "26103       mexican  13049  [vanilla ice cream, lime, garlic powder, zucch...   \n",
       "30350     brazilian  13430  [marshmallows, fresh corn, cheddar cheese, shr...   \n",
       "31250       italian  29216  [eggs, warm water, pepper, dried basil, unsalt...   \n",
       "\n",
       "       has_any_allergen  n_ingredients  has_most1_allergen  \n",
       "0                     0              9                   0  \n",
       "1                     1             11                   0  \n",
       "2                     1             12                   0  \n",
       "3                     0              4                   0  \n",
       "4                     1             20                   1  \n",
       "6                     0             13                   0  \n",
       "7                     0             10                   0  \n",
       "9                     0              6                   0  \n",
       "11                    0             15                   0  \n",
       "13                    0             17                   0  \n",
       "28                    0             14                   0  \n",
       "30                    1              5                   0  \n",
       "31                    0             16                   0  \n",
       "34                    0              8                   0  \n",
       "48                    1              7                   0  \n",
       "55                    0             22                   0  \n",
       "77                    0              3                   0  \n",
       "88                    0              2                   0  \n",
       "142                   0             18                   0  \n",
       "251                   1             24                   0  \n",
       "294                   1             38                   0  \n",
       "342                   0             21                   0  \n",
       "345                   0             40                   0  \n",
       "408                   1             23                   0  \n",
       "411                   0             19                   0  \n",
       "781                   0             25                   0  \n",
       "783                   0             26                   0  \n",
       "795                   0             27                   0  \n",
       "940                   0              1                   0  \n",
       "1392                  0             34                   0  \n",
       "1808                  0             28                   0  \n",
       "2922                  0             30                   0  \n",
       "3200                  0             29                   0  \n",
       "4123                  1             32                   0  \n",
       "6139                  0             36                   0  \n",
       "10513                 1             49                   1  \n",
       "10893                 0             31                   0  \n",
       "13940                 0             35                   0  \n",
       "15289                 1             65                   1  \n",
       "19749                 0             33                   0  \n",
       "26103                 1             52                   0  \n",
       "30350                 1             59                   1  \n",
       "31250                 1             43                   1  "
      ]
     },
     "execution_count": 157,
     "metadata": {},
     "output_type": "execute_result"
    }
   ],
   "source": [
    "recipes.groupby('n_ingredients').head(1)"
   ]
  },
  {
   "cell_type": "code",
   "execution_count": null,
   "metadata": {
    "collapsed": true
   },
   "outputs": [],
   "source": []
  },
  {
   "cell_type": "code",
   "execution_count": null,
   "metadata": {
    "collapsed": true
   },
   "outputs": [],
   "source": []
  },
  {
   "cell_type": "code",
   "execution_count": 91,
   "metadata": {},
   "outputs": [
    {
     "data": {
      "text/plain": [
       "cuisine     n_ingredients\n",
       "brazilian   4                57\n",
       "            5                50\n",
       "            6                50\n",
       "            11               34\n",
       "            7                27\n",
       "            9                26\n",
       "            3                24\n",
       "            12               23\n",
       "            14               23\n",
       "            8                22\n",
       "            13               22\n",
       "            15               22\n",
       "            10               21\n",
       "            16               21\n",
       "            17               15\n",
       "            18               10\n",
       "            19                5\n",
       "            2                 3\n",
       "            21                2\n",
       "            22                2\n",
       "            25                2\n",
       "            20                1\n",
       "            23                1\n",
       "            24                1\n",
       "            29                1\n",
       "            36                1\n",
       "            59                1\n",
       "british     7                85\n",
       "            10               81\n",
       "            8                74\n",
       "                             ..\n",
       "vietnamese  13               62\n",
       "            7                57\n",
       "            12               57\n",
       "            10               56\n",
       "            15               53\n",
       "            9                52\n",
       "            11               51\n",
       "            16               51\n",
       "            14               50\n",
       "            6                46\n",
       "            17               40\n",
       "            8                38\n",
       "            18               37\n",
       "            20               34\n",
       "            19               27\n",
       "            21               20\n",
       "            4                18\n",
       "            5                18\n",
       "            2                10\n",
       "            24               10\n",
       "            3                 9\n",
       "            22                9\n",
       "            23                7\n",
       "            25                5\n",
       "            26                3\n",
       "            1                 1\n",
       "            27                1\n",
       "            29                1\n",
       "            30                1\n",
       "            31                1\n",
       "Name: n_ingredients, Length: 561, dtype: int64"
      ]
     },
     "execution_count": 91,
     "metadata": {},
     "output_type": "execute_result"
    }
   ],
   "source": [
    "recipes.groupby('cuisine')['n_ingredients'].value_counts()"
   ]
  },
  {
   "cell_type": "code",
   "execution_count": null,
   "metadata": {
    "collapsed": true
   },
   "outputs": [],
   "source": []
  },
  {
   "cell_type": "code",
   "execution_count": null,
   "metadata": {
    "collapsed": true
   },
   "outputs": [],
   "source": []
  },
  {
   "cell_type": "code",
   "execution_count": null,
   "metadata": {
    "collapsed": true
   },
   "outputs": [],
   "source": []
  },
  {
   "cell_type": "markdown",
   "metadata": {
    "collapsed": true
   },
   "source": [
    "### Related work:\n",
    "\n",
    "* https://cseweb.ucsd.edu/~jmcauley/cse255/reports/fa15/039.pdf\n",
    "\n",
    "\n"
   ]
  },
  {
   "cell_type": "markdown",
   "metadata": {},
   "source": [
    "### Acknowledgements\n",
    "\n",
    "Thanks to my supportive family!\n",
    "\n",
    "Background video music: \"Weird Al\" Yankovic - \"Eat It\"  https://itunes.apple.com/au/artist/weird-al-yankovic/id1855044"
   ]
  },
  {
   "cell_type": "code",
   "execution_count": null,
   "metadata": {
    "collapsed": true
   },
   "outputs": [],
   "source": []
  }
 ],
 "metadata": {
  "kernelspec": {
   "display_name": "Python 3",
   "language": "python",
   "name": "python3"
  },
  "language_info": {
   "codemirror_mode": {
    "name": "ipython",
    "version": 3
   },
   "file_extension": ".py",
   "mimetype": "text/x-python",
   "name": "python",
   "nbconvert_exporter": "python",
   "pygments_lexer": "ipython3",
   "version": "3.6.1"
  }
 },
 "nbformat": 4,
 "nbformat_minor": 2
}
